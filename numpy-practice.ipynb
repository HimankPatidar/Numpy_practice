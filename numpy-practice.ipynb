{
 "cells": [
  {
   "cell_type": "code",
   "execution_count": 1,
   "id": "d4ab0a20",
   "metadata": {
    "_cell_guid": "b1076dfc-b9ad-4769-8c92-a6c4dae69d19",
    "_uuid": "8f2839f25d086af736a60e9eeb907d3b93b6e0e5",
    "execution": {
     "iopub.execute_input": "2024-09-02T18:36:09.428836Z",
     "iopub.status.busy": "2024-09-02T18:36:09.427876Z",
     "iopub.status.idle": "2024-09-02T18:36:09.835084Z",
     "shell.execute_reply": "2024-09-02T18:36:09.834158Z"
    },
    "papermill": {
     "duration": 0.45047,
     "end_time": "2024-09-02T18:36:09.837506",
     "exception": false,
     "start_time": "2024-09-02T18:36:09.387036",
     "status": "completed"
    },
    "tags": []
   },
   "outputs": [],
   "source": [
    "# This Python 3 environment comes with many helpful analytics libraries installed\n",
    "# It is defined by the kaggle/python Docker image: https://github.com/kaggle/docker-python\n",
    "# For example, here's several helpful packages to load\n",
    "\n",
    "import numpy as np # linear algebra\n",
    "import pandas as pd # data processing, CSV file I/O (e.g. pd.read_csv)\n",
    "\n",
    "# Input data files are available in the read-only \"../input/\" directory\n",
    "# For example, running this (by clicking run or pressing Shift+Enter) will list all files under the input directory\n",
    "\n",
    "import os\n",
    "for dirname, _, filenames in os.walk('/kaggle/input'):\n",
    "    for filename in filenames:\n",
    "        print(os.path.join(dirname, filename))\n",
    "\n",
    "# You can write up to 20GB to the current directory (/kaggle/working/) that gets preserved as output when you create a version using \"Save & Run All\" \n",
    "# You can also write temporary files to /kaggle/temp/, but they won't be saved outside of the current session"
   ]
  },
  {
   "cell_type": "code",
   "execution_count": 2,
   "id": "73820ed6",
   "metadata": {
    "execution": {
     "iopub.execute_input": "2024-09-02T18:36:09.912736Z",
     "iopub.status.busy": "2024-09-02T18:36:09.911902Z",
     "iopub.status.idle": "2024-09-02T18:36:09.920831Z",
     "shell.execute_reply": "2024-09-02T18:36:09.919815Z"
    },
    "papermill": {
     "duration": 0.049586,
     "end_time": "2024-09-02T18:36:09.923202",
     "exception": false,
     "start_time": "2024-09-02T18:36:09.873616",
     "status": "completed"
    },
    "tags": []
   },
   "outputs": [
    {
     "data": {
      "text/plain": [
       "array([0., 0., 0., 0., 0.])"
      ]
     },
     "execution_count": 2,
     "metadata": {},
     "output_type": "execute_result"
    }
   ],
   "source": [
    "np.zeros(5)"
   ]
  },
  {
   "cell_type": "code",
   "execution_count": 3,
   "id": "a79c4c72",
   "metadata": {
    "execution": {
     "iopub.execute_input": "2024-09-02T18:36:09.997356Z",
     "iopub.status.busy": "2024-09-02T18:36:09.996963Z",
     "iopub.status.idle": "2024-09-02T18:36:10.003766Z",
     "shell.execute_reply": "2024-09-02T18:36:10.002806Z"
    },
    "papermill": {
     "duration": 0.045992,
     "end_time": "2024-09-02T18:36:10.005766",
     "exception": false,
     "start_time": "2024-09-02T18:36:09.959774",
     "status": "completed"
    },
    "tags": []
   },
   "outputs": [
    {
     "data": {
      "text/plain": [
       "array([[0., 0., 0., 0.],\n",
       "       [0., 0., 0., 0.],\n",
       "       [0., 0., 0., 0.]])"
      ]
     },
     "execution_count": 3,
     "metadata": {},
     "output_type": "execute_result"
    }
   ],
   "source": [
    "np.zeros((3,4))"
   ]
  },
  {
   "cell_type": "code",
   "execution_count": 4,
   "id": "2653c4e2",
   "metadata": {
    "execution": {
     "iopub.execute_input": "2024-09-02T18:36:10.082330Z",
     "iopub.status.busy": "2024-09-02T18:36:10.081403Z",
     "iopub.status.idle": "2024-09-02T18:36:10.088056Z",
     "shell.execute_reply": "2024-09-02T18:36:10.087131Z"
    },
    "papermill": {
     "duration": 0.048518,
     "end_time": "2024-09-02T18:36:10.090189",
     "exception": false,
     "start_time": "2024-09-02T18:36:10.041671",
     "status": "completed"
    },
    "tags": []
   },
   "outputs": [
    {
     "data": {
      "text/plain": [
       "array([[0., 0., 0., 0.],\n",
       "       [0., 0., 0., 0.],\n",
       "       [0., 0., 0., 0.]])"
      ]
     },
     "execution_count": 4,
     "metadata": {},
     "output_type": "execute_result"
    }
   ],
   "source": [
    "a = np.zeros((3,4))\n",
    "a"
   ]
  },
  {
   "cell_type": "code",
   "execution_count": 5,
   "id": "3bca739a",
   "metadata": {
    "execution": {
     "iopub.execute_input": "2024-09-02T18:36:10.163846Z",
     "iopub.status.busy": "2024-09-02T18:36:10.163321Z",
     "iopub.status.idle": "2024-09-02T18:36:10.169607Z",
     "shell.execute_reply": "2024-09-02T18:36:10.168618Z"
    },
    "papermill": {
     "duration": 0.045474,
     "end_time": "2024-09-02T18:36:10.171696",
     "exception": false,
     "start_time": "2024-09-02T18:36:10.126222",
     "status": "completed"
    },
    "tags": []
   },
   "outputs": [
    {
     "data": {
      "text/plain": [
       "(3, 4)"
      ]
     },
     "execution_count": 5,
     "metadata": {},
     "output_type": "execute_result"
    }
   ],
   "source": [
    "a.shape"
   ]
  },
  {
   "cell_type": "code",
   "execution_count": 6,
   "id": "21d998ad",
   "metadata": {
    "execution": {
     "iopub.execute_input": "2024-09-02T18:36:10.247376Z",
     "iopub.status.busy": "2024-09-02T18:36:10.246477Z",
     "iopub.status.idle": "2024-09-02T18:36:10.253082Z",
     "shell.execute_reply": "2024-09-02T18:36:10.251735Z"
    },
    "papermill": {
     "duration": 0.047333,
     "end_time": "2024-09-02T18:36:10.255303",
     "exception": false,
     "start_time": "2024-09-02T18:36:10.207970",
     "status": "completed"
    },
    "tags": []
   },
   "outputs": [
    {
     "data": {
      "text/plain": [
       "2"
      ]
     },
     "execution_count": 6,
     "metadata": {},
     "output_type": "execute_result"
    }
   ],
   "source": [
    "a.ndim"
   ]
  },
  {
   "cell_type": "code",
   "execution_count": 7,
   "id": "fe589b27",
   "metadata": {
    "execution": {
     "iopub.execute_input": "2024-09-02T18:36:10.330716Z",
     "iopub.status.busy": "2024-09-02T18:36:10.330292Z",
     "iopub.status.idle": "2024-09-02T18:36:10.336722Z",
     "shell.execute_reply": "2024-09-02T18:36:10.335701Z"
    },
    "papermill": {
     "duration": 0.046855,
     "end_time": "2024-09-02T18:36:10.338808",
     "exception": false,
     "start_time": "2024-09-02T18:36:10.291953",
     "status": "completed"
    },
    "tags": []
   },
   "outputs": [
    {
     "data": {
      "text/plain": [
       "12"
      ]
     },
     "execution_count": 7,
     "metadata": {},
     "output_type": "execute_result"
    }
   ],
   "source": [
    "a.size\n"
   ]
  },
  {
   "cell_type": "code",
   "execution_count": 8,
   "id": "3b04c711",
   "metadata": {
    "execution": {
     "iopub.execute_input": "2024-09-02T18:36:10.412601Z",
     "iopub.status.busy": "2024-09-02T18:36:10.412181Z",
     "iopub.status.idle": "2024-09-02T18:36:10.419136Z",
     "shell.execute_reply": "2024-09-02T18:36:10.418186Z"
    },
    "papermill": {
     "duration": 0.046437,
     "end_time": "2024-09-02T18:36:10.421482",
     "exception": false,
     "start_time": "2024-09-02T18:36:10.375045",
     "status": "completed"
    },
    "tags": []
   },
   "outputs": [
    {
     "data": {
      "text/plain": [
       "array([[[0., 0., 0., 0.],\n",
       "        [0., 0., 0., 0.],\n",
       "        [0., 0., 0., 0.]],\n",
       "\n",
       "       [[0., 0., 0., 0.],\n",
       "        [0., 0., 0., 0.],\n",
       "        [0., 0., 0., 0.]]])"
      ]
     },
     "execution_count": 8,
     "metadata": {},
     "output_type": "execute_result"
    }
   ],
   "source": [
    "np.zeros((2,3,4))"
   ]
  },
  {
   "cell_type": "code",
   "execution_count": 9,
   "id": "f5b2ea78",
   "metadata": {
    "execution": {
     "iopub.execute_input": "2024-09-02T18:36:10.545663Z",
     "iopub.status.busy": "2024-09-02T18:36:10.544986Z",
     "iopub.status.idle": "2024-09-02T18:36:10.552178Z",
     "shell.execute_reply": "2024-09-02T18:36:10.551222Z"
    },
    "papermill": {
     "duration": 0.048441,
     "end_time": "2024-09-02T18:36:10.554272",
     "exception": false,
     "start_time": "2024-09-02T18:36:10.505831",
     "status": "completed"
    },
    "tags": []
   },
   "outputs": [
    {
     "data": {
      "text/plain": [
       "numpy.ndarray"
      ]
     },
     "execution_count": 9,
     "metadata": {},
     "output_type": "execute_result"
    }
   ],
   "source": [
    "type(np.zeros((3,4)))"
   ]
  },
  {
   "cell_type": "code",
   "execution_count": 10,
   "id": "04294391",
   "metadata": {
    "execution": {
     "iopub.execute_input": "2024-09-02T18:36:10.628862Z",
     "iopub.status.busy": "2024-09-02T18:36:10.628441Z",
     "iopub.status.idle": "2024-09-02T18:36:10.636684Z",
     "shell.execute_reply": "2024-09-02T18:36:10.635699Z"
    },
    "papermill": {
     "duration": 0.048118,
     "end_time": "2024-09-02T18:36:10.638893",
     "exception": false,
     "start_time": "2024-09-02T18:36:10.590775",
     "status": "completed"
    },
    "tags": []
   },
   "outputs": [
    {
     "data": {
      "text/plain": [
       "array([[1., 1., 1., 1.],\n",
       "       [1., 1., 1., 1.],\n",
       "       [1., 1., 1., 1.]])"
      ]
     },
     "execution_count": 10,
     "metadata": {},
     "output_type": "execute_result"
    }
   ],
   "source": [
    "np.ones((3,4))"
   ]
  },
  {
   "cell_type": "code",
   "execution_count": 11,
   "id": "4c74a7a3",
   "metadata": {
    "execution": {
     "iopub.execute_input": "2024-09-02T18:36:10.715587Z",
     "iopub.status.busy": "2024-09-02T18:36:10.715159Z",
     "iopub.status.idle": "2024-09-02T18:36:10.722458Z",
     "shell.execute_reply": "2024-09-02T18:36:10.721517Z"
    },
    "papermill": {
     "duration": 0.048821,
     "end_time": "2024-09-02T18:36:10.724481",
     "exception": false,
     "start_time": "2024-09-02T18:36:10.675660",
     "status": "completed"
    },
    "tags": []
   },
   "outputs": [
    {
     "data": {
      "text/plain": [
       "array([[3.14159265, 3.14159265, 3.14159265, 3.14159265],\n",
       "       [3.14159265, 3.14159265, 3.14159265, 3.14159265],\n",
       "       [3.14159265, 3.14159265, 3.14159265, 3.14159265]])"
      ]
     },
     "execution_count": 11,
     "metadata": {},
     "output_type": "execute_result"
    }
   ],
   "source": [
    "np.full((3,4), np.pi)"
   ]
  },
  {
   "cell_type": "code",
   "execution_count": 12,
   "id": "bf3d919e",
   "metadata": {
    "execution": {
     "iopub.execute_input": "2024-09-02T18:36:10.799801Z",
     "iopub.status.busy": "2024-09-02T18:36:10.799396Z",
     "iopub.status.idle": "2024-09-02T18:36:10.806319Z",
     "shell.execute_reply": "2024-09-02T18:36:10.805363Z"
    },
    "papermill": {
     "duration": 0.046726,
     "end_time": "2024-09-02T18:36:10.808480",
     "exception": false,
     "start_time": "2024-09-02T18:36:10.761754",
     "status": "completed"
    },
    "tags": []
   },
   "outputs": [
    {
     "data": {
      "text/plain": [
       "array([[4.96434266e-310, 0.00000000e+000, 6.57023363e-310],\n",
       "       [6.57028786e-310, 6.57023363e-310, 6.57028786e-310]])"
      ]
     },
     "execution_count": 12,
     "metadata": {},
     "output_type": "execute_result"
    }
   ],
   "source": [
    "np.empty((2,3))"
   ]
  },
  {
   "cell_type": "code",
   "execution_count": 13,
   "id": "90019540",
   "metadata": {
    "execution": {
     "iopub.execute_input": "2024-09-02T18:36:10.883526Z",
     "iopub.status.busy": "2024-09-02T18:36:10.883123Z",
     "iopub.status.idle": "2024-09-02T18:36:10.890397Z",
     "shell.execute_reply": "2024-09-02T18:36:10.889406Z"
    },
    "papermill": {
     "duration": 0.047146,
     "end_time": "2024-09-02T18:36:10.892470",
     "exception": false,
     "start_time": "2024-09-02T18:36:10.845324",
     "status": "completed"
    },
    "tags": []
   },
   "outputs": [
    {
     "data": {
      "text/plain": [
       "array([[ 1,  2,  3,  4],\n",
       "       [10, 20, 30, 40]])"
      ]
     },
     "execution_count": 13,
     "metadata": {},
     "output_type": "execute_result"
    }
   ],
   "source": [
    "np.array([[1,2,3,4], [10,20,30,40]])"
   ]
  },
  {
   "cell_type": "code",
   "execution_count": 14,
   "id": "465ad9e3",
   "metadata": {
    "execution": {
     "iopub.execute_input": "2024-09-02T18:36:10.968490Z",
     "iopub.status.busy": "2024-09-02T18:36:10.968095Z",
     "iopub.status.idle": "2024-09-02T18:36:10.974617Z",
     "shell.execute_reply": "2024-09-02T18:36:10.973638Z"
    },
    "papermill": {
     "duration": 0.047169,
     "end_time": "2024-09-02T18:36:10.976673",
     "exception": false,
     "start_time": "2024-09-02T18:36:10.929504",
     "status": "completed"
    },
    "tags": []
   },
   "outputs": [
    {
     "data": {
      "text/plain": [
       "array([1, 2, 3, 4])"
      ]
     },
     "execution_count": 14,
     "metadata": {},
     "output_type": "execute_result"
    }
   ],
   "source": [
    "np.arange(1,5)"
   ]
  },
  {
   "cell_type": "code",
   "execution_count": 15,
   "id": "a9044048",
   "metadata": {
    "execution": {
     "iopub.execute_input": "2024-09-02T18:36:11.052585Z",
     "iopub.status.busy": "2024-09-02T18:36:11.052192Z",
     "iopub.status.idle": "2024-09-02T18:36:11.059501Z",
     "shell.execute_reply": "2024-09-02T18:36:11.058457Z"
    },
    "papermill": {
     "duration": 0.047903,
     "end_time": "2024-09-02T18:36:11.061598",
     "exception": false,
     "start_time": "2024-09-02T18:36:11.013695",
     "status": "completed"
    },
    "tags": []
   },
   "outputs": [
    {
     "data": {
      "text/plain": [
       "array([1., 2., 3., 4.])"
      ]
     },
     "execution_count": 15,
     "metadata": {},
     "output_type": "execute_result"
    }
   ],
   "source": [
    "np.arange(1.0,5.0)"
   ]
  },
  {
   "cell_type": "code",
   "execution_count": 16,
   "id": "d8677250",
   "metadata": {
    "execution": {
     "iopub.execute_input": "2024-09-02T18:36:11.137986Z",
     "iopub.status.busy": "2024-09-02T18:36:11.137004Z",
     "iopub.status.idle": "2024-09-02T18:36:11.144136Z",
     "shell.execute_reply": "2024-09-02T18:36:11.143146Z"
    },
    "papermill": {
     "duration": 0.047673,
     "end_time": "2024-09-02T18:36:11.146279",
     "exception": false,
     "start_time": "2024-09-02T18:36:11.098606",
     "status": "completed"
    },
    "tags": []
   },
   "outputs": [
    {
     "data": {
      "text/plain": [
       "array([1. , 1.5, 2. , 2.5, 3. , 3.5, 4. , 4.5])"
      ]
     },
     "execution_count": 16,
     "metadata": {},
     "output_type": "execute_result"
    }
   ],
   "source": [
    "np.arange(1,5,0.5)"
   ]
  },
  {
   "cell_type": "code",
   "execution_count": 17,
   "id": "5fe1fbb8",
   "metadata": {
    "execution": {
     "iopub.execute_input": "2024-09-02T18:36:11.222458Z",
     "iopub.status.busy": "2024-09-02T18:36:11.221996Z",
     "iopub.status.idle": "2024-09-02T18:36:11.228967Z",
     "shell.execute_reply": "2024-09-02T18:36:11.227979Z"
    },
    "papermill": {
     "duration": 0.047624,
     "end_time": "2024-09-02T18:36:11.231289",
     "exception": false,
     "start_time": "2024-09-02T18:36:11.183665",
     "status": "completed"
    },
    "tags": []
   },
   "outputs": [
    {
     "name": "stdout",
     "output_type": "stream",
     "text": [
      "[0.         0.33333333 0.66666667 1.         1.33333333 1.66666667]\n",
      "[0.         0.33333333 0.66666667 1.         1.33333333 1.66666667]\n",
      "[0.         0.33333333 0.66666667 1.         1.33333334]\n"
     ]
    }
   ],
   "source": [
    "print(np.arange(0,5/3,1/3))\n",
    "print(np.arange(0,5/3,0.333333333))\n",
    "print(np.arange(0,5/3,0.333333334))"
   ]
  },
  {
   "cell_type": "code",
   "execution_count": 18,
   "id": "67609252",
   "metadata": {
    "execution": {
     "iopub.execute_input": "2024-09-02T18:36:11.309373Z",
     "iopub.status.busy": "2024-09-02T18:36:11.308336Z",
     "iopub.status.idle": "2024-09-02T18:36:11.314337Z",
     "shell.execute_reply": "2024-09-02T18:36:11.313334Z"
    },
    "papermill": {
     "duration": 0.04669,
     "end_time": "2024-09-02T18:36:11.316611",
     "exception": false,
     "start_time": "2024-09-02T18:36:11.269921",
     "status": "completed"
    },
    "tags": []
   },
   "outputs": [
    {
     "name": "stdout",
     "output_type": "stream",
     "text": [
      "[0.         0.33333333 0.66666667 1.         1.33333333 1.66666667]\n"
     ]
    }
   ],
   "source": [
    "print(np.linspace(0,5/3, 6))"
   ]
  },
  {
   "cell_type": "code",
   "execution_count": 19,
   "id": "bea856cb",
   "metadata": {
    "execution": {
     "iopub.execute_input": "2024-09-02T18:36:11.393344Z",
     "iopub.status.busy": "2024-09-02T18:36:11.392956Z",
     "iopub.status.idle": "2024-09-02T18:36:11.400170Z",
     "shell.execute_reply": "2024-09-02T18:36:11.399104Z"
    },
    "papermill": {
     "duration": 0.048174,
     "end_time": "2024-09-02T18:36:11.402370",
     "exception": false,
     "start_time": "2024-09-02T18:36:11.354196",
     "status": "completed"
    },
    "tags": []
   },
   "outputs": [
    {
     "data": {
      "text/plain": [
       "array([[0.81673149, 0.94415875, 0.81610467, 0.54356869],\n",
       "       [0.83222539, 0.68856812, 0.29671248, 0.74554659],\n",
       "       [0.12808687, 0.51787807, 0.01821376, 0.71875963]])"
      ]
     },
     "execution_count": 19,
     "metadata": {},
     "output_type": "execute_result"
    }
   ],
   "source": [
    "np.random.rand(3,4)"
   ]
  },
  {
   "cell_type": "code",
   "execution_count": 20,
   "id": "752ce94a",
   "metadata": {
    "execution": {
     "iopub.execute_input": "2024-09-02T18:36:11.480273Z",
     "iopub.status.busy": "2024-09-02T18:36:11.479853Z",
     "iopub.status.idle": "2024-09-02T18:36:11.486991Z",
     "shell.execute_reply": "2024-09-02T18:36:11.485983Z"
    },
    "papermill": {
     "duration": 0.049235,
     "end_time": "2024-09-02T18:36:11.489168",
     "exception": false,
     "start_time": "2024-09-02T18:36:11.439933",
     "status": "completed"
    },
    "tags": []
   },
   "outputs": [
    {
     "data": {
      "text/plain": [
       "array([[ 0.25270037,  1.08955178,  1.29332291,  0.21544852],\n",
       "       [-1.25077571,  1.14417362, -1.46253496,  1.05280288],\n",
       "       [ 0.27007742,  0.92187123, -1.21501077, -0.66146593]])"
      ]
     },
     "execution_count": 20,
     "metadata": {},
     "output_type": "execute_result"
    }
   ],
   "source": [
    "np.random.randn(3,4)"
   ]
  },
  {
   "cell_type": "code",
   "execution_count": 21,
   "id": "80ec38c5",
   "metadata": {
    "execution": {
     "iopub.execute_input": "2024-09-02T18:36:11.567994Z",
     "iopub.status.busy": "2024-09-02T18:36:11.567544Z",
     "iopub.status.idle": "2024-09-02T18:36:11.837869Z",
     "shell.execute_reply": "2024-09-02T18:36:11.836861Z"
    },
    "papermill": {
     "duration": 0.312993,
     "end_time": "2024-09-02T18:36:11.840353",
     "exception": false,
     "start_time": "2024-09-02T18:36:11.527360",
     "status": "completed"
    },
    "tags": []
   },
   "outputs": [
    {
     "data": {
      "image/png": "[encoded data removed]",
      "text/plain": [
       "<Figure size 640x480 with 1 Axes>"
      ]
     },
     "metadata": {},
     "output_type": "display_data"
    }
   ],
   "source": [
    "import matplotlib.pyplot as plt\n",
    "\n",
    "plt.hist(np.random.rand(100000), density=True, bins=100, histtype=\"step\", color=\"blue\", label=\"rand\")\n",
    "plt.hist(np.random.randn(100000), density=True, bins=100, histtype=\"step\", color=\"red\", label=\"randn\")\n",
    "plt.axis([-2.5,2.5,0,1.1])\n",
    "plt.legend(loc=\"upper left\")\n",
    "plt.title(\"Random Distribution\")\n",
    "plt.xlabel(\"Value\")\n",
    "plt.ylabel(\"Density\")\n",
    "plt.show()"
   ]
  },
  {
   "cell_type": "code",
   "execution_count": 22,
   "id": "2623b101",
   "metadata": {
    "execution": {
     "iopub.execute_input": "2024-09-02T18:36:11.918010Z",
     "iopub.status.busy": "2024-09-02T18:36:11.917621Z",
     "iopub.status.idle": "2024-09-02T18:36:11.925525Z",
     "shell.execute_reply": "2024-09-02T18:36:11.924570Z"
    },
    "papermill": {
     "duration": 0.049146,
     "end_time": "2024-09-02T18:36:11.927646",
     "exception": false,
     "start_time": "2024-09-02T18:36:11.878500",
     "status": "completed"
    },
    "tags": []
   },
   "outputs": [
    {
     "data": {
      "text/plain": [
       "array([[[  0.,   1.,   2.,   3.,   4.,   5.,   6.,   7.,   8.,   9.],\n",
       "        [ 10.,  11.,  12.,  13.,  14.,  15.,  16.,  17.,  18.,  19.]],\n",
       "\n",
       "       [[100., 101., 102., 103., 104., 105., 106., 107., 108., 109.],\n",
       "        [110., 111., 112., 113., 114., 115., 116., 117., 118., 119.]],\n",
       "\n",
       "       [[200., 201., 202., 203., 204., 205., 206., 207., 208., 209.],\n",
       "        [210., 211., 212., 213., 214., 215., 216., 217., 218., 219.]]])"
      ]
     },
     "execution_count": 22,
     "metadata": {},
     "output_type": "execute_result"
    }
   ],
   "source": [
    "def my_function(z,y,x) :\n",
    "    return x + 10 * y + 100 *z\n",
    "\n",
    "np.fromfunction(my_function, (3,2,10))"
   ]
  },
  {
   "cell_type": "markdown",
   "id": "41af51ed",
   "metadata": {
    "papermill": {
     "duration": 0.03808,
     "end_time": "2024-09-02T18:36:12.003825",
     "exception": false,
     "start_time": "2024-09-02T18:36:11.965745",
     "status": "completed"
    },
    "tags": []
   },
   "source": [
    "# Array data"
   ]
  },
  {
   "cell_type": "markdown",
   "id": "1ce0cc65",
   "metadata": {
    "papermill": {
     "duration": 0.037793,
     "end_time": "2024-09-02T18:36:12.079648",
     "exception": false,
     "start_time": "2024-09-02T18:36:12.041855",
     "status": "completed"
    },
    "tags": []
   },
   "source": [
    "## dtype\n",
    "#### NumPy's ndarrays are also efficient in part because all their elements must have the same type (usually numbers). You can check what the data type is by looking at the dtype attribute:\n",
    "\n",
    "\n"
   ]
  },
  {
   "cell_type": "code",
   "execution_count": 23,
   "id": "fd6f34d7",
   "metadata": {
    "execution": {
     "iopub.execute_input": "2024-09-02T18:36:12.157762Z",
     "iopub.status.busy": "2024-09-02T18:36:12.157352Z",
     "iopub.status.idle": "2024-09-02T18:36:12.162891Z",
     "shell.execute_reply": "2024-09-02T18:36:12.161855Z"
    },
    "papermill": {
     "duration": 0.047329,
     "end_time": "2024-09-02T18:36:12.165270",
     "exception": false,
     "start_time": "2024-09-02T18:36:12.117941",
     "status": "completed"
    },
    "tags": []
   },
   "outputs": [
    {
     "name": "stdout",
     "output_type": "stream",
     "text": [
      "int64 [1 2 3 4]\n"
     ]
    }
   ],
   "source": [
    "c = np.arange(1,5)\n",
    "print(c.dtype,c)"
   ]
  },
  {
   "cell_type": "code",
   "execution_count": 24,
   "id": "6df0bc5c",
   "metadata": {
    "execution": {
     "iopub.execute_input": "2024-09-02T18:36:12.244299Z",
     "iopub.status.busy": "2024-09-02T18:36:12.243372Z",
     "iopub.status.idle": "2024-09-02T18:36:12.248914Z",
     "shell.execute_reply": "2024-09-02T18:36:12.247980Z"
    },
    "papermill": {
     "duration": 0.047775,
     "end_time": "2024-09-02T18:36:12.251516",
     "exception": false,
     "start_time": "2024-09-02T18:36:12.203741",
     "status": "completed"
    },
    "tags": []
   },
   "outputs": [
    {
     "name": "stdout",
     "output_type": "stream",
     "text": [
      "float64 [1. 2. 3. 4.]\n"
     ]
    }
   ],
   "source": [
    "c = np.arange(1.0, 5.0)\n",
    "print(c.dtype, c)"
   ]
  },
  {
   "cell_type": "markdown",
   "id": "8a819bcf",
   "metadata": {
    "papermill": {
     "duration": 0.038563,
     "end_time": "2024-09-02T18:36:12.329680",
     "exception": false,
     "start_time": "2024-09-02T18:36:12.291117",
     "status": "completed"
    },
    "tags": []
   },
   "source": [
    "Instead of letting NumPy guess what data type to use, you can set it explicitly when creating an array by setting the `dtype` parameter:"
   ]
  },
  {
   "cell_type": "code",
   "execution_count": 25,
   "id": "e07fa979",
   "metadata": {
    "execution": {
     "iopub.execute_input": "2024-09-02T18:36:12.408859Z",
     "iopub.status.busy": "2024-09-02T18:36:12.408442Z",
     "iopub.status.idle": "2024-09-02T18:36:12.414599Z",
     "shell.execute_reply": "2024-09-02T18:36:12.413565Z"
    },
    "papermill": {
     "duration": 0.047821,
     "end_time": "2024-09-02T18:36:12.416793",
     "exception": false,
     "start_time": "2024-09-02T18:36:12.368972",
     "status": "completed"
    },
    "tags": []
   },
   "outputs": [
    {
     "name": "stdout",
     "output_type": "stream",
     "text": [
      "complex64 [1.+0.j 2.+0.j 3.+0.j 4.+0.j]\n"
     ]
    }
   ],
   "source": [
    "d = np.arange(1,5, dtype = np.complex64)\n",
    "print(d.dtype, d)"
   ]
  },
  {
   "cell_type": "markdown",
   "id": "1be5fbcf",
   "metadata": {
    "papermill": {
     "duration": 0.038463,
     "end_time": "2024-09-02T18:36:12.493781",
     "exception": false,
     "start_time": "2024-09-02T18:36:12.455318",
     "status": "completed"
    },
    "tags": []
   },
   "source": [
    "Available data types include signed `int8`, `int16`, `int32`, `int64`, unsigned `uint8`|`16`|`32`|`64`, `float16`|`32`|`64` and `complex64`|`128`. Check out the documentation for the [basic types](https://numpy.org/doc/stable/user/basics.types.html) and [sized aliases](https://numpy.org/doc/stable/reference/arrays.scalars.html#sized-aliases) for the full list.\n",
    "\n",
    "## `itemsize`\n",
    "The `itemsize` attribute returns the size (in bytes) of each item:"
   ]
  },
  {
   "cell_type": "code",
   "execution_count": 26,
   "id": "3c9d8812",
   "metadata": {
    "execution": {
     "iopub.execute_input": "2024-09-02T18:36:12.573261Z",
     "iopub.status.busy": "2024-09-02T18:36:12.572853Z",
     "iopub.status.idle": "2024-09-02T18:36:12.579778Z",
     "shell.execute_reply": "2024-09-02T18:36:12.578725Z"
    },
    "papermill": {
     "duration": 0.050063,
     "end_time": "2024-09-02T18:36:12.582019",
     "exception": false,
     "start_time": "2024-09-02T18:36:12.531956",
     "status": "completed"
    },
    "tags": []
   },
   "outputs": [
    {
     "data": {
      "text/plain": [
       "8"
      ]
     },
     "execution_count": 26,
     "metadata": {},
     "output_type": "execute_result"
    }
   ],
   "source": [
    "e = np.arange(1,5, dtype=np.complex64)\n",
    "e.itemsize"
   ]
  },
  {
   "cell_type": "markdown",
   "id": "75c4bb3f",
   "metadata": {
    "papermill": {
     "duration": 0.038253,
     "end_time": "2024-09-02T18:36:12.658843",
     "exception": false,
     "start_time": "2024-09-02T18:36:12.620590",
     "status": "completed"
    },
    "tags": []
   },
   "source": [
    "## `data` buffer\n",
    "An array's data is actually stored in memory as a flat (one dimensional) byte buffer. It is available *via* the `data` attribute (you will rarely need it, though)."
   ]
  },
  {
   "cell_type": "code",
   "execution_count": 27,
   "id": "92ad854e",
   "metadata": {
    "execution": {
     "iopub.execute_input": "2024-09-02T18:36:12.737834Z",
     "iopub.status.busy": "2024-09-02T18:36:12.736902Z",
     "iopub.status.idle": "2024-09-02T18:36:12.744001Z",
     "shell.execute_reply": "2024-09-02T18:36:12.742914Z"
    },
    "papermill": {
     "duration": 0.04891,
     "end_time": "2024-09-02T18:36:12.745985",
     "exception": false,
     "start_time": "2024-09-02T18:36:12.697075",
     "status": "completed"
    },
    "tags": []
   },
   "outputs": [
    {
     "data": {
      "text/plain": [
       "<memory at 0x78f2848da9b0>"
      ]
     },
     "execution_count": 27,
     "metadata": {},
     "output_type": "execute_result"
    }
   ],
   "source": [
    " f = np.array([[1,2],[1000,2000]], dtype=np.int32)\n",
    "f.data"
   ]
  },
  {
   "cell_type": "code",
   "execution_count": 28,
   "id": "05d97ae6",
   "metadata": {
    "execution": {
     "iopub.execute_input": "2024-09-02T18:36:12.824640Z",
     "iopub.status.busy": "2024-09-02T18:36:12.823957Z",
     "iopub.status.idle": "2024-09-02T18:36:12.831026Z",
     "shell.execute_reply": "2024-09-02T18:36:12.829966Z"
    },
    "papermill": {
     "duration": 0.048777,
     "end_time": "2024-09-02T18:36:12.833192",
     "exception": false,
     "start_time": "2024-09-02T18:36:12.784415",
     "status": "completed"
    },
    "tags": []
   },
   "outputs": [
    {
     "data": {
      "text/plain": [
       "b'\\x01\\x00\\x00\\x00\\x02\\x00\\x00\\x00\\xe8\\x03\\x00\\x00\\xd0\\x07\\x00\\x00'"
      ]
     },
     "execution_count": 28,
     "metadata": {},
     "output_type": "execute_result"
    }
   ],
   "source": [
    "if hasattr(f.data, \"tobytes\") :\n",
    "    data_bytes = f.data.tobytes()\n",
    "else :\n",
    "    data_bytes = memoryview(f.data).tobytes()\n",
    "    \n",
    "data_bytes"
   ]
  },
  {
   "cell_type": "markdown",
   "id": "0f90ae32",
   "metadata": {
    "papermill": {
     "duration": 0.038434,
     "end_time": "2024-09-02T18:36:12.910693",
     "exception": false,
     "start_time": "2024-09-02T18:36:12.872259",
     "status": "completed"
    },
    "tags": []
   },
   "source": [
    "Several `ndarray`s can share the same data buffer, meaning that modifying one will also modify the others. We will see \n",
    "an example in a minute.\n"
   ]
  },
  {
   "cell_type": "markdown",
   "id": "c14b0364",
   "metadata": {
    "papermill": {
     "duration": 0.038361,
     "end_time": "2024-09-02T18:36:12.987841",
     "exception": false,
     "start_time": "2024-09-02T18:36:12.949480",
     "status": "completed"
    },
    "tags": []
   },
   "source": [
    "# Reshaping an array\n",
    "## In place\n",
    "Changing the shape of an `ndarray` is as simple as setting its `shape` attribute. However, the array's size must remain the same."
   ]
  },
  {
   "cell_type": "code",
   "execution_count": 29,
   "id": "36956109",
   "metadata": {
    "execution": {
     "iopub.execute_input": "2024-09-02T18:36:13.067069Z",
     "iopub.status.busy": "2024-09-02T18:36:13.066679Z",
     "iopub.status.idle": "2024-09-02T18:36:13.072537Z",
     "shell.execute_reply": "2024-09-02T18:36:13.071474Z"
    },
    "papermill": {
     "duration": 0.048275,
     "end_time": "2024-09-02T18:36:13.075069",
     "exception": false,
     "start_time": "2024-09-02T18:36:13.026794",
     "status": "completed"
    },
    "tags": []
   },
   "outputs": [
    {
     "name": "stdout",
     "output_type": "stream",
     "text": [
      "[ 0  1  2  3  4  5  6  7  8  9 10 11 12 13 14 15 16 17 18 19 20 21 22 23]\n",
      "Rank : 1\n"
     ]
    }
   ],
   "source": [
    "g = np.arange(24)\n",
    "print(g)\n",
    "print(\"Rank :\", g.ndim)"
   ]
  },
  {
   "cell_type": "code",
   "execution_count": 30,
   "id": "102b2ab0",
   "metadata": {
    "execution": {
     "iopub.execute_input": "2024-09-02T18:36:13.154795Z",
     "iopub.status.busy": "2024-09-02T18:36:13.154036Z",
     "iopub.status.idle": "2024-09-02T18:36:13.159906Z",
     "shell.execute_reply": "2024-09-02T18:36:13.158825Z"
    },
    "papermill": {
     "duration": 0.048504,
     "end_time": "2024-09-02T18:36:13.162280",
     "exception": false,
     "start_time": "2024-09-02T18:36:13.113776",
     "status": "completed"
    },
    "tags": []
   },
   "outputs": [
    {
     "name": "stdout",
     "output_type": "stream",
     "text": [
      "[[ 0  1  2  3]\n",
      " [ 4  5  6  7]\n",
      " [ 8  9 10 11]\n",
      " [12 13 14 15]\n",
      " [16 17 18 19]\n",
      " [20 21 22 23]]\n",
      "Rank :  2\n"
     ]
    }
   ],
   "source": [
    "g.shape = (6,4)\n",
    "print(g)\n",
    "print(\"Rank : \", g.ndim)"
   ]
  },
  {
   "cell_type": "code",
   "execution_count": 31,
   "id": "cbe9af29",
   "metadata": {
    "execution": {
     "iopub.execute_input": "2024-09-02T18:36:13.241718Z",
     "iopub.status.busy": "2024-09-02T18:36:13.241311Z",
     "iopub.status.idle": "2024-09-02T18:36:13.247086Z",
     "shell.execute_reply": "2024-09-02T18:36:13.246066Z"
    },
    "papermill": {
     "duration": 0.048081,
     "end_time": "2024-09-02T18:36:13.249342",
     "exception": false,
     "start_time": "2024-09-02T18:36:13.201261",
     "status": "completed"
    },
    "tags": []
   },
   "outputs": [
    {
     "name": "stdout",
     "output_type": "stream",
     "text": [
      "[[[ 0  1  2  3]\n",
      "  [ 4  5  6  7]\n",
      "  [ 8  9 10 11]]\n",
      "\n",
      " [[12 13 14 15]\n",
      "  [16 17 18 19]\n",
      "  [20 21 22 23]]]\n",
      "Rank :  3\n"
     ]
    }
   ],
   "source": [
    "g.shape = (2,3,4)\n",
    "print(g)\n",
    "print(\"Rank : \", g.ndim)"
   ]
  },
  {
   "cell_type": "markdown",
   "id": "30d4210c",
   "metadata": {
    "papermill": {
     "duration": 0.038272,
     "end_time": "2024-09-02T18:36:13.326859",
     "exception": false,
     "start_time": "2024-09-02T18:36:13.288587",
     "status": "completed"
    },
    "tags": []
   },
   "source": [
    "## `reshape`\n",
    "The `reshape` function returns a new `ndarray` object pointing at the *same* data. This means that modifying one array will also modify the other."
   ]
  },
  {
   "cell_type": "code",
   "execution_count": 32,
   "id": "47271d99",
   "metadata": {
    "execution": {
     "iopub.execute_input": "2024-09-02T18:36:13.406364Z",
     "iopub.status.busy": "2024-09-02T18:36:13.405426Z",
     "iopub.status.idle": "2024-09-02T18:36:13.411335Z",
     "shell.execute_reply": "2024-09-02T18:36:13.410417Z"
    },
    "papermill": {
     "duration": 0.047946,
     "end_time": "2024-09-02T18:36:13.413378",
     "exception": false,
     "start_time": "2024-09-02T18:36:13.365432",
     "status": "completed"
    },
    "tags": []
   },
   "outputs": [
    {
     "name": "stdout",
     "output_type": "stream",
     "text": [
      "[[ 0  1  2  3  4  5]\n",
      " [ 6  7  8  9 10 11]\n",
      " [12 13 14 15 16 17]\n",
      " [18 19 20 21 22 23]]\n",
      "Rank :  2\n"
     ]
    }
   ],
   "source": [
    "g2 = g.reshape(4,6)\n",
    "print(g2)\n",
    "print(\"Rank : \", g2.ndim)"
   ]
  },
  {
   "cell_type": "markdown",
   "id": "2cbd2e2c",
   "metadata": {
    "papermill": {
     "duration": 0.038826,
     "end_time": "2024-09-02T18:36:13.491049",
     "exception": false,
     "start_time": "2024-09-02T18:36:13.452223",
     "status": "completed"
    },
    "tags": []
   },
   "source": [
    "Set item at row 1, col 2 to 999 (more about indexing below)."
   ]
  },
  {
   "cell_type": "code",
   "execution_count": 33,
   "id": "6aa8ce3f",
   "metadata": {
    "execution": {
     "iopub.execute_input": "2024-09-02T18:36:13.572175Z",
     "iopub.status.busy": "2024-09-02T18:36:13.571448Z",
     "iopub.status.idle": "2024-09-02T18:36:13.578317Z",
     "shell.execute_reply": "2024-09-02T18:36:13.577370Z"
    },
    "papermill": {
     "duration": 0.050821,
     "end_time": "2024-09-02T18:36:13.580445",
     "exception": false,
     "start_time": "2024-09-02T18:36:13.529624",
     "status": "completed"
    },
    "tags": []
   },
   "outputs": [
    {
     "data": {
      "text/plain": [
       "array([[  0,   1,   2,   3,   4,   5],\n",
       "       [  6,   7, 999,   9,  10,  11],\n",
       "       [ 12,  13,  14,  15,  16,  17],\n",
       "       [ 18,  19,  20,  21,  22,  23]])"
      ]
     },
     "execution_count": 33,
     "metadata": {},
     "output_type": "execute_result"
    }
   ],
   "source": [
    "g2[1,2] = 999\n",
    "g2"
   ]
  },
  {
   "cell_type": "code",
   "execution_count": 34,
   "id": "381d206a",
   "metadata": {
    "execution": {
     "iopub.execute_input": "2024-09-02T18:36:13.660148Z",
     "iopub.status.busy": "2024-09-02T18:36:13.659744Z",
     "iopub.status.idle": "2024-09-02T18:36:13.666522Z",
     "shell.execute_reply": "2024-09-02T18:36:13.665569Z"
    },
    "papermill": {
     "duration": 0.048989,
     "end_time": "2024-09-02T18:36:13.668601",
     "exception": false,
     "start_time": "2024-09-02T18:36:13.619612",
     "status": "completed"
    },
    "tags": []
   },
   "outputs": [
    {
     "data": {
      "text/plain": [
       "array([[[  0,   1,   2,   3],\n",
       "        [  4,   5,   6,   7],\n",
       "        [999,   9,  10,  11]],\n",
       "\n",
       "       [[ 12,  13,  14,  15],\n",
       "        [ 16,  17,  18,  19],\n",
       "        [ 20,  21,  22,  23]]])"
      ]
     },
     "execution_count": 34,
     "metadata": {},
     "output_type": "execute_result"
    }
   ],
   "source": [
    "g\n"
   ]
  },
  {
   "cell_type": "markdown",
   "id": "e741fe32",
   "metadata": {
    "papermill": {
     "duration": 0.038753,
     "end_time": "2024-09-02T18:36:13.746515",
     "exception": false,
     "start_time": "2024-09-02T18:36:13.707762",
     "status": "completed"
    },
    "tags": []
   },
   "source": [
    "## `ravel`\n",
    "Finally, the `ravel` function returns a new one-dimensional `ndarray` that also points to the same data:"
   ]
  },
  {
   "cell_type": "code",
   "execution_count": 35,
   "id": "7fac49c5",
   "metadata": {
    "execution": {
     "iopub.execute_input": "2024-09-02T18:36:13.827396Z",
     "iopub.status.busy": "2024-09-02T18:36:13.826699Z",
     "iopub.status.idle": "2024-09-02T18:36:13.833636Z",
     "shell.execute_reply": "2024-09-02T18:36:13.832497Z"
    },
    "papermill": {
     "duration": 0.049935,
     "end_time": "2024-09-02T18:36:13.835650",
     "exception": false,
     "start_time": "2024-09-02T18:36:13.785715",
     "status": "completed"
    },
    "tags": []
   },
   "outputs": [
    {
     "data": {
      "text/plain": [
       "array([  0,   1,   2,   3,   4,   5,   6,   7, 999,   9,  10,  11,  12,\n",
       "        13,  14,  15,  16,  17,  18,  19,  20,  21,  22,  23])"
      ]
     },
     "execution_count": 35,
     "metadata": {},
     "output_type": "execute_result"
    }
   ],
   "source": [
    "g.ravel()"
   ]
  },
  {
   "cell_type": "markdown",
   "id": "1956610f",
   "metadata": {
    "papermill": {
     "duration": 0.038793,
     "end_time": "2024-09-02T18:36:13.913673",
     "exception": false,
     "start_time": "2024-09-02T18:36:13.874880",
     "status": "completed"
    },
    "tags": []
   },
   "source": [
    "# Arithmetic operations\n",
    "All the usual arithmetic operators (`+`, `-`, `*`, `/`, `//`, `**`, etc.) can be used with `ndarray`s. They apply *elementwise*:"
   ]
  },
  {
   "cell_type": "code",
   "execution_count": 36,
   "id": "7bb60b30",
   "metadata": {
    "execution": {
     "iopub.execute_input": "2024-09-02T18:36:13.994766Z",
     "iopub.status.busy": "2024-09-02T18:36:13.993930Z",
     "iopub.status.idle": "2024-09-02T18:36:14.002189Z",
     "shell.execute_reply": "2024-09-02T18:36:14.000894Z"
    },
    "papermill": {
     "duration": 0.051922,
     "end_time": "2024-09-02T18:36:14.005290",
     "exception": false,
     "start_time": "2024-09-02T18:36:13.953368",
     "status": "completed"
    },
    "tags": []
   },
   "outputs": [
    {
     "name": "stdout",
     "output_type": "stream",
     "text": [
      "a + b =  [19 27 35 43]\n",
      "a - b =  [ 9 19 29 39]\n",
      "a * b =  [70 92 96 82]\n",
      "a / b =  [ 2.8         5.75       10.66666667 20.5       ]\n",
      "a // b =  [ 2  5 10 20]\n",
      "a % b =  [4 3 2 1]\n",
      "a ** b =  [537824 279841  32768   1681]\n"
     ]
    }
   ],
   "source": [
    "a = np.array([14,23,32,41])\n",
    "b = np.array([5,4,3,2])\n",
    "print(\"a + b = \", a + b)\n",
    "print(\"a - b = \", a - b)\n",
    "print(\"a * b = \", a * b)\n",
    "print(\"a / b = \", a / b)\n",
    "print(\"a // b = \", a // b)\n",
    "print(\"a % b = \", a % b)\n",
    "print(\"a ** b = \", a ** b)\n",
    "   "
   ]
  },
  {
   "cell_type": "markdown",
   "id": "79a2948f",
   "metadata": {
    "papermill": {
     "duration": 0.039302,
     "end_time": "2024-09-02T18:36:14.084798",
     "exception": false,
     "start_time": "2024-09-02T18:36:14.045496",
     "status": "completed"
    },
    "tags": []
   },
   "source": [
    "Note that the multiplication is *not* a matrix multiplication. We will discuss matrix operations below.\n",
    "\n",
    "The arrays must have the same shape. If they do not, NumPy will apply the *broadcasting rules*."
   ]
  },
  {
   "cell_type": "markdown",
   "id": "ef7017ca",
   "metadata": {
    "papermill": {
     "duration": 0.03948,
     "end_time": "2024-09-02T18:36:14.163954",
     "exception": false,
     "start_time": "2024-09-02T18:36:14.124474",
     "status": "completed"
    },
    "tags": []
   },
   "source": [
    "# Broadcasting"
   ]
  },
  {
   "cell_type": "markdown",
   "id": "319f24c9",
   "metadata": {
    "papermill": {
     "duration": 0.040101,
     "end_time": "2024-09-02T18:36:14.244040",
     "exception": false,
     "start_time": "2024-09-02T18:36:14.203939",
     "status": "completed"
    },
    "tags": []
   },
   "source": [
    "In general, when NumPy expects arrays of the same shape but finds that this is not the case, it applies the so-called *broadcasting* rules:\n",
    "\n",
    "## First rule\n",
    "*If the arrays do not have the same rank, then a 1 will be prepended to the smaller ranking arrays until their ranks match.*"
   ]
  },
  {
   "cell_type": "code",
   "execution_count": 37,
   "id": "a8459f59",
   "metadata": {
    "execution": {
     "iopub.execute_input": "2024-09-02T18:36:14.328017Z",
     "iopub.status.busy": "2024-09-02T18:36:14.327168Z",
     "iopub.status.idle": "2024-09-02T18:36:14.333975Z",
     "shell.execute_reply": "2024-09-02T18:36:14.332997Z"
    },
    "papermill": {
     "duration": 0.050824,
     "end_time": "2024-09-02T18:36:14.336354",
     "exception": false,
     "start_time": "2024-09-02T18:36:14.285530",
     "status": "completed"
    },
    "tags": []
   },
   "outputs": [
    {
     "data": {
      "text/plain": [
       "array([[[0, 1, 2, 3, 4]]])"
      ]
     },
     "execution_count": 37,
     "metadata": {},
     "output_type": "execute_result"
    }
   ],
   "source": [
    "h = np.arange(5).reshape(1,1,5)\n",
    "h"
   ]
  },
  {
   "cell_type": "markdown",
   "id": "e2c06667",
   "metadata": {
    "papermill": {
     "duration": 0.039227,
     "end_time": "2024-09-02T18:36:14.415255",
     "exception": false,
     "start_time": "2024-09-02T18:36:14.376028",
     "status": "completed"
    },
    "tags": []
   },
   "source": [
    ":Now let's try to add a 1D array of shape `(5,)` to this 3D array of shape `(1,1,5)`. Applying the first rule of broadcasting!"
   ]
  },
  {
   "cell_type": "code",
   "execution_count": 38,
   "id": "07fc9881",
   "metadata": {
    "execution": {
     "iopub.execute_input": "2024-09-02T18:36:14.500014Z",
     "iopub.status.busy": "2024-09-02T18:36:14.498945Z",
     "iopub.status.idle": "2024-09-02T18:36:14.506527Z",
     "shell.execute_reply": "2024-09-02T18:36:14.505598Z"
    },
    "papermill": {
     "duration": 0.053791,
     "end_time": "2024-09-02T18:36:14.508655",
     "exception": false,
     "start_time": "2024-09-02T18:36:14.454864",
     "status": "completed"
    },
    "tags": []
   },
   "outputs": [
    {
     "data": {
      "text/plain": [
       "array([[[10, 21, 32, 43, 54]]])"
      ]
     },
     "execution_count": 38,
     "metadata": {},
     "output_type": "execute_result"
    }
   ],
   "source": [
    "h + [10,20,30,40,50]"
   ]
  },
  {
   "cell_type": "markdown",
   "id": "8d018723",
   "metadata": {
    "papermill": {
     "duration": 0.04126,
     "end_time": "2024-09-02T18:36:14.590079",
     "exception": false,
     "start_time": "2024-09-02T18:36:14.548819",
     "status": "completed"
    },
    "tags": []
   },
   "source": [
    "## Second rule\n",
    "*Arrays with a 1 along a particular dimension act as if they had the size of the array with the largest shape along that dimension. The value of the array element is repeated along that dimension.*"
   ]
  },
  {
   "cell_type": "code",
   "execution_count": 39,
   "id": "ad54be25",
   "metadata": {
    "execution": {
     "iopub.execute_input": "2024-09-02T18:36:14.672350Z",
     "iopub.status.busy": "2024-09-02T18:36:14.671483Z",
     "iopub.status.idle": "2024-09-02T18:36:14.678907Z",
     "shell.execute_reply": "2024-09-02T18:36:14.677802Z"
    },
    "papermill": {
     "duration": 0.050922,
     "end_time": "2024-09-02T18:36:14.681061",
     "exception": false,
     "start_time": "2024-09-02T18:36:14.630139",
     "status": "completed"
    },
    "tags": []
   },
   "outputs": [
    {
     "data": {
      "text/plain": [
       "array([[0, 1, 2],\n",
       "       [3, 4, 5]])"
      ]
     },
     "execution_count": 39,
     "metadata": {},
     "output_type": "execute_result"
    }
   ],
   "source": [
    "k = np.arange(6).reshape(2,3)\n",
    "k"
   ]
  },
  {
   "cell_type": "markdown",
   "id": "485d1d23",
   "metadata": {
    "papermill": {
     "duration": 0.039223,
     "end_time": "2024-09-02T18:36:14.760605",
     "exception": false,
     "start_time": "2024-09-02T18:36:14.721382",
     "status": "completed"
    },
    "tags": []
   },
   "source": [
    "Let's try to add a 2D array of shape `(2,1)` to this 2D `ndarray` of shape `(2, 3)`. NumPy will apply the second rule of broadcasting:"
   ]
  },
  {
   "cell_type": "code",
   "execution_count": 40,
   "id": "33a096bf",
   "metadata": {
    "execution": {
     "iopub.execute_input": "2024-09-02T18:36:14.841476Z",
     "iopub.status.busy": "2024-09-02T18:36:14.841104Z",
     "iopub.status.idle": "2024-09-02T18:36:14.847880Z",
     "shell.execute_reply": "2024-09-02T18:36:14.846911Z"
    },
    "papermill": {
     "duration": 0.049318,
     "end_time": "2024-09-02T18:36:14.849861",
     "exception": false,
     "start_time": "2024-09-02T18:36:14.800543",
     "status": "completed"
    },
    "tags": []
   },
   "outputs": [
    {
     "data": {
      "text/plain": [
       "array([[100, 101, 102],\n",
       "       [203, 204, 205]])"
      ]
     },
     "execution_count": 40,
     "metadata": {},
     "output_type": "execute_result"
    }
   ],
   "source": [
    "k + [[100], [200]]"
   ]
  },
  {
   "cell_type": "markdown",
   "id": "2f6a83e0",
   "metadata": {
    "papermill": {
     "duration": 0.039695,
     "end_time": "2024-09-02T18:36:14.929184",
     "exception": false,
     "start_time": "2024-09-02T18:36:14.889489",
     "status": "completed"
    },
    "tags": []
   },
   "source": [
    "#### Combinig rules 1 & 2 , we can do this :\n"
   ]
  },
  {
   "cell_type": "code",
   "execution_count": 41,
   "id": "d2ceba26",
   "metadata": {
    "execution": {
     "iopub.execute_input": "2024-09-02T18:36:15.010115Z",
     "iopub.status.busy": "2024-09-02T18:36:15.009716Z",
     "iopub.status.idle": "2024-09-02T18:36:15.016389Z",
     "shell.execute_reply": "2024-09-02T18:36:15.015331Z"
    },
    "papermill": {
     "duration": 0.049692,
     "end_time": "2024-09-02T18:36:15.018468",
     "exception": false,
     "start_time": "2024-09-02T18:36:14.968776",
     "status": "completed"
    },
    "tags": []
   },
   "outputs": [
    {
     "data": {
      "text/plain": [
       "array([[100, 201, 302],\n",
       "       [103, 204, 305]])"
      ]
     },
     "execution_count": 41,
     "metadata": {},
     "output_type": "execute_result"
    }
   ],
   "source": [
    "k + [100,200,300]"
   ]
  },
  {
   "cell_type": "markdown",
   "id": "eecdf757",
   "metadata": {
    "papermill": {
     "duration": 0.039438,
     "end_time": "2024-09-02T18:36:15.098319",
     "exception": false,
     "start_time": "2024-09-02T18:36:15.058881",
     "status": "completed"
    },
    "tags": []
   },
   "source": [
    "## Third rule\n",
    "*After rules 1 & 2, the sizes of all arrays must match.*"
   ]
  },
  {
   "cell_type": "code",
   "execution_count": 42,
   "id": "069e2d46",
   "metadata": {
    "execution": {
     "iopub.execute_input": "2024-09-02T18:36:15.181472Z",
     "iopub.status.busy": "2024-09-02T18:36:15.180499Z",
     "iopub.status.idle": "2024-09-02T18:36:15.186567Z",
     "shell.execute_reply": "2024-09-02T18:36:15.185307Z"
    },
    "papermill": {
     "duration": 0.049667,
     "end_time": "2024-09-02T18:36:15.188815",
     "exception": false,
     "start_time": "2024-09-02T18:36:15.139148",
     "status": "completed"
    },
    "tags": []
   },
   "outputs": [
    {
     "name": "stdout",
     "output_type": "stream",
     "text": [
      "operands could not be broadcast together with shapes (2,3) (2,) \n"
     ]
    }
   ],
   "source": [
    "try:\n",
    "    k + [33, 44]\n",
    "except ValueError as e:\n",
    "    print(e)"
   ]
  },
  {
   "cell_type": "markdown",
   "id": "85c1155e",
   "metadata": {
    "papermill": {
     "duration": 0.03939,
     "end_time": "2024-09-02T18:36:15.268257",
     "exception": false,
     "start_time": "2024-09-02T18:36:15.228867",
     "status": "completed"
    },
    "tags": []
   },
   "source": [
    "## Upcasting\n",
    "When trying to combine arrays with different `dtype`s, NumPy will *upcast* to a type capable of handling all possible values (regardless of what the *actual* values are)."
   ]
  },
  {
   "cell_type": "code",
   "execution_count": 43,
   "id": "208e5386",
   "metadata": {
    "execution": {
     "iopub.execute_input": "2024-09-02T18:36:15.351102Z",
     "iopub.status.busy": "2024-09-02T18:36:15.350175Z",
     "iopub.status.idle": "2024-09-02T18:36:15.355841Z",
     "shell.execute_reply": "2024-09-02T18:36:15.354826Z"
    },
    "papermill": {
     "duration": 0.049183,
     "end_time": "2024-09-02T18:36:15.358369",
     "exception": false,
     "start_time": "2024-09-02T18:36:15.309186",
     "status": "completed"
    },
    "tags": []
   },
   "outputs": [
    {
     "name": "stdout",
     "output_type": "stream",
     "text": [
      "uint8 [0 1 2 3 4]\n"
     ]
    }
   ],
   "source": [
    "k1 = np.arange(0,5, dtype = np.uint8)\n",
    "print(k1.dtype, k1)"
   ]
  },
  {
   "cell_type": "code",
   "execution_count": 44,
   "id": "a6429c79",
   "metadata": {
    "execution": {
     "iopub.execute_input": "2024-09-02T18:36:15.439653Z",
     "iopub.status.busy": "2024-09-02T18:36:15.439234Z",
     "iopub.status.idle": "2024-09-02T18:36:15.445209Z",
     "shell.execute_reply": "2024-09-02T18:36:15.444274Z"
    },
    "papermill": {
     "duration": 0.04918,
     "end_time": "2024-09-02T18:36:15.447426",
     "exception": false,
     "start_time": "2024-09-02T18:36:15.398246",
     "status": "completed"
    },
    "tags": []
   },
   "outputs": [
    {
     "name": "stdout",
     "output_type": "stream",
     "text": [
      "uint8 [0 1 2 3 4]\n"
     ]
    }
   ],
   "source": [
    "k2 = k1 + np.array([5,6,7,8,9], dtype = np.int8)\n",
    "print(k1.dtype, k1)"
   ]
  },
  {
   "cell_type": "markdown",
   "id": "6be9bd41",
   "metadata": {
    "papermill": {
     "duration": 0.039597,
     "end_time": "2024-09-02T18:36:15.527099",
     "exception": false,
     "start_time": "2024-09-02T18:36:15.487502",
     "status": "completed"
    },
    "tags": []
   },
   "source": [
    "#### Note that int16 is required to represent all possible int8 and uint8 values (from -128 to 255), even though in this case a uint8 would have sufficed.\n",
    "\n",
    "\n"
   ]
  },
  {
   "cell_type": "code",
   "execution_count": 45,
   "id": "fdad5472",
   "metadata": {
    "execution": {
     "iopub.execute_input": "2024-09-02T18:36:15.611420Z",
     "iopub.status.busy": "2024-09-02T18:36:15.610518Z",
     "iopub.status.idle": "2024-09-02T18:36:15.616313Z",
     "shell.execute_reply": "2024-09-02T18:36:15.615392Z"
    },
    "papermill": {
     "duration": 0.049626,
     "end_time": "2024-09-02T18:36:15.618396",
     "exception": false,
     "start_time": "2024-09-02T18:36:15.568770",
     "status": "completed"
    },
    "tags": []
   },
   "outputs": [
    {
     "name": "stdout",
     "output_type": "stream",
     "text": [
      "float64 [1.5 2.5 3.5 4.5 5.5]\n"
     ]
    }
   ],
   "source": [
    "k3 = k1 + 1.5\n",
    "print(k3.dtype, k3)"
   ]
  },
  {
   "cell_type": "markdown",
   "id": "a915c2ba",
   "metadata": {
    "papermill": {
     "duration": 0.039954,
     "end_time": "2024-09-02T18:36:15.698469",
     "exception": false,
     "start_time": "2024-09-02T18:36:15.658515",
     "status": "completed"
    },
    "tags": []
   },
   "source": [
    "# Conditional Operators\n",
    "\n",
    "### The Conditional operators also apply elementwise :"
   ]
  },
  {
   "cell_type": "code",
   "execution_count": 46,
   "id": "a7ce492e",
   "metadata": {
    "execution": {
     "iopub.execute_input": "2024-09-02T18:36:15.780998Z",
     "iopub.status.busy": "2024-09-02T18:36:15.780033Z",
     "iopub.status.idle": "2024-09-02T18:36:15.787358Z",
     "shell.execute_reply": "2024-09-02T18:36:15.786144Z"
    },
    "papermill": {
     "duration": 0.050823,
     "end_time": "2024-09-02T18:36:15.789482",
     "exception": false,
     "start_time": "2024-09-02T18:36:15.738659",
     "status": "completed"
    },
    "tags": []
   },
   "outputs": [
    {
     "data": {
      "text/plain": [
       "array([False,  True,  True, False])"
      ]
     },
     "execution_count": 46,
     "metadata": {},
     "output_type": "execute_result"
    }
   ],
   "source": [
    "m = np.array([20, -5,30,40])\n",
    "m < [15,16,35,36]\n"
   ]
  },
  {
   "cell_type": "code",
   "execution_count": 47,
   "id": "bdbe4cac",
   "metadata": {
    "execution": {
     "iopub.execute_input": "2024-09-02T18:36:15.872543Z",
     "iopub.status.busy": "2024-09-02T18:36:15.872134Z",
     "iopub.status.idle": "2024-09-02T18:36:15.878829Z",
     "shell.execute_reply": "2024-09-02T18:36:15.877658Z"
    },
    "papermill": {
     "duration": 0.050492,
     "end_time": "2024-09-02T18:36:15.880933",
     "exception": false,
     "start_time": "2024-09-02T18:36:15.830441",
     "status": "completed"
    },
    "tags": []
   },
   "outputs": [
    {
     "data": {
      "text/plain": [
       "array([ True,  True, False, False])"
      ]
     },
     "execution_count": 47,
     "metadata": {},
     "output_type": "execute_result"
    }
   ],
   "source": [
    "m < 25"
   ]
  },
  {
   "cell_type": "code",
   "execution_count": 48,
   "id": "04071f23",
   "metadata": {
    "execution": {
     "iopub.execute_input": "2024-09-02T18:36:15.963523Z",
     "iopub.status.busy": "2024-09-02T18:36:15.963105Z",
     "iopub.status.idle": "2024-09-02T18:36:15.969703Z",
     "shell.execute_reply": "2024-09-02T18:36:15.968748Z"
    },
    "papermill": {
     "duration": 0.050322,
     "end_time": "2024-09-02T18:36:15.971666",
     "exception": false,
     "start_time": "2024-09-02T18:36:15.921344",
     "status": "completed"
    },
    "tags": []
   },
   "outputs": [
    {
     "data": {
      "text/plain": [
       "array([20, -5])"
      ]
     },
     "execution_count": 48,
     "metadata": {},
     "output_type": "execute_result"
    }
   ],
   "source": [
    "m[m<25]"
   ]
  },
  {
   "cell_type": "markdown",
   "id": "be91100d",
   "metadata": {
    "papermill": {
     "duration": 0.040148,
     "end_time": "2024-09-02T18:36:16.052385",
     "exception": false,
     "start_time": "2024-09-02T18:36:16.012237",
     "status": "completed"
    },
    "tags": []
   },
   "source": [
    "# Mathematical and statistical functions"
   ]
  },
  {
   "cell_type": "markdown",
   "id": "abbc1f20",
   "metadata": {
    "papermill": {
     "duration": 0.040233,
     "end_time": "2024-09-02T18:36:16.133007",
     "exception": false,
     "start_time": "2024-09-02T18:36:16.092774",
     "status": "completed"
    },
    "tags": []
   },
   "source": [
    "Many mathematical and statistical functions are available for `ndarray`s.\n",
    "\n",
    "## `ndarray` methods\n",
    "Some functions are simply `ndarray` methods, for example:"
   ]
  },
  {
   "cell_type": "code",
   "execution_count": 49,
   "id": "2b34d21d",
   "metadata": {
    "execution": {
     "iopub.execute_input": "2024-09-02T18:36:16.215931Z",
     "iopub.status.busy": "2024-09-02T18:36:16.215501Z",
     "iopub.status.idle": "2024-09-02T18:36:16.221899Z",
     "shell.execute_reply": "2024-09-02T18:36:16.220843Z"
    },
    "papermill": {
     "duration": 0.05061,
     "end_time": "2024-09-02T18:36:16.224155",
     "exception": false,
     "start_time": "2024-09-02T18:36:16.173545",
     "status": "completed"
    },
    "tags": []
   },
   "outputs": [
    {
     "name": "stdout",
     "output_type": "stream",
     "text": [
      "[[-2.5  3.1  7. ]\n",
      " [10.  11.  12. ]]\n",
      "mean =  6.766666666666667\n"
     ]
    }
   ],
   "source": [
    "a = np.array([[-2.5,3.1,7], [10,11,12]])\n",
    "print(a)\n",
    "print(\"mean = \", a.mean())"
   ]
  },
  {
   "cell_type": "markdown",
   "id": "6cad3b55",
   "metadata": {
    "papermill": {
     "duration": 0.040368,
     "end_time": "2024-09-02T18:36:16.306393",
     "exception": false,
     "start_time": "2024-09-02T18:36:16.266025",
     "status": "completed"
    },
    "tags": []
   },
   "source": [
    "Note that this computes the mean of all elements in the `ndarray`, regardless of its shape.\n",
    "\n",
    "Here are a few more useful `ndarray` methods:"
   ]
  },
  {
   "cell_type": "code",
   "execution_count": 50,
   "id": "503205ed",
   "metadata": {
    "execution": {
     "iopub.execute_input": "2024-09-02T18:36:16.391120Z",
     "iopub.status.busy": "2024-09-02T18:36:16.390727Z",
     "iopub.status.idle": "2024-09-02T18:36:16.396892Z",
     "shell.execute_reply": "2024-09-02T18:36:16.395776Z"
    },
    "papermill": {
     "duration": 0.050804,
     "end_time": "2024-09-02T18:36:16.399162",
     "exception": false,
     "start_time": "2024-09-02T18:36:16.348358",
     "status": "completed"
    },
    "tags": []
   },
   "outputs": [
    {
     "name": "stdout",
     "output_type": "stream",
     "text": [
      "min = -2.5\n",
      "max = 12.0\n",
      "sum = 40.6\n",
      "prod = -71610.0\n",
      "std = 5.084835843520964\n",
      "var = 25.855555555555554\n"
     ]
    }
   ],
   "source": [
    "for func in (a.min, a.max, a.sum, a.prod, a.std, a.var) :\n",
    "    print(func.__name__, \"=\",func())"
   ]
  },
  {
   "cell_type": "markdown",
   "id": "dcecc24f",
   "metadata": {
    "papermill": {
     "duration": 0.040586,
     "end_time": "2024-09-02T18:36:16.480879",
     "exception": false,
     "start_time": "2024-09-02T18:36:16.440293",
     "status": "completed"
    },
    "tags": []
   },
   "source": [
    "### These functions accept an optional argument axis which lets you ask for the operation to be performed on elements along the given axis. For example:\n",
    "\n",
    "\n"
   ]
  },
  {
   "cell_type": "code",
   "execution_count": 51,
   "id": "7a95922d",
   "metadata": {
    "execution": {
     "iopub.execute_input": "2024-09-02T18:36:16.575508Z",
     "iopub.status.busy": "2024-09-02T18:36:16.574990Z",
     "iopub.status.idle": "2024-09-02T18:36:16.583710Z",
     "shell.execute_reply": "2024-09-02T18:36:16.582518Z"
    },
    "papermill": {
     "duration": 0.063994,
     "end_time": "2024-09-02T18:36:16.585712",
     "exception": false,
     "start_time": "2024-09-02T18:36:16.521718",
     "status": "completed"
    },
    "tags": []
   },
   "outputs": [
    {
     "data": {
      "text/plain": [
       "array([[[ 0,  1,  2,  3],\n",
       "        [ 4,  5,  6,  7],\n",
       "        [ 8,  9, 10, 11]],\n",
       "\n",
       "       [[12, 13, 14, 15],\n",
       "        [16, 17, 18, 19],\n",
       "        [20, 21, 22, 23]]])"
      ]
     },
     "execution_count": 51,
     "metadata": {},
     "output_type": "execute_result"
    }
   ],
   "source": [
    "c = np.arange(24).reshape(2,3,4)\n",
    "c"
   ]
  },
  {
   "cell_type": "code",
   "execution_count": 52,
   "id": "b6a9d1c2",
   "metadata": {
    "execution": {
     "iopub.execute_input": "2024-09-02T18:36:16.687190Z",
     "iopub.status.busy": "2024-09-02T18:36:16.686675Z",
     "iopub.status.idle": "2024-09-02T18:36:16.695775Z",
     "shell.execute_reply": "2024-09-02T18:36:16.694037Z"
    },
    "papermill": {
     "duration": 0.069301,
     "end_time": "2024-09-02T18:36:16.698219",
     "exception": false,
     "start_time": "2024-09-02T18:36:16.628918",
     "status": "completed"
    },
    "tags": []
   },
   "outputs": [
    {
     "data": {
      "text/plain": [
       "array([[12, 14, 16, 18],\n",
       "       [20, 22, 24, 26],\n",
       "       [28, 30, 32, 34]])"
      ]
     },
     "execution_count": 52,
     "metadata": {},
     "output_type": "execute_result"
    }
   ],
   "source": [
    "c.sum(axis=0) # Sum across matrices"
   ]
  },
  {
   "cell_type": "code",
   "execution_count": 53,
   "id": "32b58c00",
   "metadata": {
    "execution": {
     "iopub.execute_input": "2024-09-02T18:36:16.785607Z",
     "iopub.status.busy": "2024-09-02T18:36:16.784528Z",
     "iopub.status.idle": "2024-09-02T18:36:16.791524Z",
     "shell.execute_reply": "2024-09-02T18:36:16.790571Z"
    },
    "papermill": {
     "duration": 0.051634,
     "end_time": "2024-09-02T18:36:16.793757",
     "exception": false,
     "start_time": "2024-09-02T18:36:16.742123",
     "status": "completed"
    },
    "tags": []
   },
   "outputs": [
    {
     "data": {
      "text/plain": [
       "array([[12, 15, 18, 21],\n",
       "       [48, 51, 54, 57]])"
      ]
     },
     "execution_count": 53,
     "metadata": {},
     "output_type": "execute_result"
    }
   ],
   "source": [
    "c.sum(axis=1) # sum across rows"
   ]
  },
  {
   "cell_type": "code",
   "execution_count": 54,
   "id": "ea5af872",
   "metadata": {
    "execution": {
     "iopub.execute_input": "2024-09-02T18:36:16.878629Z",
     "iopub.status.busy": "2024-09-02T18:36:16.877809Z",
     "iopub.status.idle": "2024-09-02T18:36:16.884509Z",
     "shell.execute_reply": "2024-09-02T18:36:16.883519Z"
    },
    "papermill": {
     "duration": 0.051466,
     "end_time": "2024-09-02T18:36:16.886795",
     "exception": false,
     "start_time": "2024-09-02T18:36:16.835329",
     "status": "completed"
    },
    "tags": []
   },
   "outputs": [
    {
     "data": {
      "text/plain": [
       "array([ 60,  92, 124])"
      ]
     },
     "execution_count": 54,
     "metadata": {},
     "output_type": "execute_result"
    }
   ],
   "source": [
    "c.sum(axis=(0,2))"
   ]
  },
  {
   "cell_type": "code",
   "execution_count": 55,
   "id": "a4b7ebe2",
   "metadata": {
    "execution": {
     "iopub.execute_input": "2024-09-02T18:36:16.979058Z",
     "iopub.status.busy": "2024-09-02T18:36:16.978550Z",
     "iopub.status.idle": "2024-09-02T18:36:16.986545Z",
     "shell.execute_reply": "2024-09-02T18:36:16.985521Z"
    },
    "papermill": {
     "duration": 0.059831,
     "end_time": "2024-09-02T18:36:16.989094",
     "exception": false,
     "start_time": "2024-09-02T18:36:16.929263",
     "status": "completed"
    },
    "tags": []
   },
   "outputs": [
    {
     "data": {
      "text/plain": [
       "(60, 92, 124)"
      ]
     },
     "execution_count": 55,
     "metadata": {},
     "output_type": "execute_result"
    }
   ],
   "source": [
    "0+1+2+3 + 12+13+14+15, 4+5+6+7 + 16+17+18+19, 8+9+10+11 + 20+21+22+23"
   ]
  },
  {
   "cell_type": "markdown",
   "id": "a3455535",
   "metadata": {
    "papermill": {
     "duration": 0.044126,
     "end_time": "2024-09-02T18:36:17.076960",
     "exception": false,
     "start_time": "2024-09-02T18:36:17.032834",
     "status": "completed"
    },
    "tags": []
   },
   "source": [
    "## Universal functions\n",
    "NumPy also provides fast elementwise functions called *universal functions*, or **ufunc**. They are vectorized wrappers of simple functions. For example `square` returns a new `ndarray` which is a copy of the original `ndarray` except that each element is squared:****"
   ]
  },
  {
   "cell_type": "code",
   "execution_count": 56,
   "id": "aed69554",
   "metadata": {
    "execution": {
     "iopub.execute_input": "2024-09-02T18:36:17.162022Z",
     "iopub.status.busy": "2024-09-02T18:36:17.161306Z",
     "iopub.status.idle": "2024-09-02T18:36:17.168542Z",
     "shell.execute_reply": "2024-09-02T18:36:17.167605Z"
    },
    "papermill": {
     "duration": 0.052174,
     "end_time": "2024-09-02T18:36:17.170610",
     "exception": false,
     "start_time": "2024-09-02T18:36:17.118436",
     "status": "completed"
    },
    "tags": []
   },
   "outputs": [
    {
     "data": {
      "text/plain": [
       "array([[  6.25,   9.61,  49.  ],\n",
       "       [100.  , 121.  , 144.  ]])"
      ]
     },
     "execution_count": 56,
     "metadata": {},
     "output_type": "execute_result"
    }
   ],
   "source": [
    "a = np.array([[-2.5, 3.1, 7], [10, 11, 12]])\n",
    "np.square(a)"
   ]
  },
  {
   "cell_type": "code",
   "execution_count": 57,
   "id": "d3172bac",
   "metadata": {
    "execution": {
     "iopub.execute_input": "2024-09-02T18:36:17.255246Z",
     "iopub.status.busy": "2024-09-02T18:36:17.254301Z",
     "iopub.status.idle": "2024-09-02T18:36:17.262957Z",
     "shell.execute_reply": "2024-09-02T18:36:17.261962Z"
    },
    "papermill": {
     "duration": 0.053992,
     "end_time": "2024-09-02T18:36:17.265942",
     "exception": false,
     "start_time": "2024-09-02T18:36:17.211950",
     "status": "completed"
    },
    "tags": []
   },
   "outputs": [
    {
     "name": "stdout",
     "output_type": "stream",
     "text": [
      "Original ndarray\n",
      "[[-2.5  3.1  7. ]\n",
      " [10.  11.  12. ]]\n",
      "\n",
      " absolute\n",
      "[[ 2.5  3.1  7. ]\n",
      " [10.  11.  12. ]]\n",
      "\n",
      " sqrt\n",
      "[[       nan 1.76068169 2.64575131]\n",
      " [3.16227766 3.31662479 3.46410162]]\n",
      "\n",
      " exp\n",
      "[[8.20849986e-02 2.21979513e+01 1.09663316e+03]\n",
      " [2.20264658e+04 5.98741417e+04 1.62754791e+05]]\n",
      "\n",
      " log\n",
      "[[       nan 1.13140211 1.94591015]\n",
      " [2.30258509 2.39789527 2.48490665]]\n",
      "\n",
      " sign\n",
      "[[-1.  1.  1.]\n",
      " [ 1.  1.  1.]]\n",
      "\n",
      " ceil\n",
      "[[-2.  4.  7.]\n",
      " [10. 11. 12.]]\n",
      "\n",
      " modf\n",
      "(array([[-0.5,  0.1,  0. ],\n",
      "       [ 0. ,  0. ,  0. ]]), array([[-2.,  3.,  7.],\n",
      "       [10., 11., 12.]]))\n",
      "\n",
      " isnan\n",
      "[[False False False]\n",
      " [False False False]]\n",
      "\n",
      " cos\n",
      "[[-0.80114362 -0.99913515  0.75390225]\n",
      " [-0.83907153  0.0044257   0.84385396]]\n"
     ]
    },
    {
     "name": "stderr",
     "output_type": "stream",
     "text": [
      "/tmp/ipykernel_17/2634842825.py:5: RuntimeWarning: invalid value encountered in sqrt\n",
      "  print(func(a))\n",
      "/tmp/ipykernel_17/2634842825.py:5: RuntimeWarning: invalid value encountered in log\n",
      "  print(func(a))\n"
     ]
    }
   ],
   "source": [
    "print(\"Original ndarray\")\n",
    "print(a)\n",
    "for func in (np.abs, np.sqrt, np.exp, np.log, np.sign, np.ceil, np.modf, np.isnan, np.cos):\n",
    "    print(\"\\n\", func.__name__)\n",
    "    print(func(a))"
   ]
  },
  {
   "cell_type": "markdown",
   "id": "33163e78",
   "metadata": {
    "papermill": {
     "duration": 0.042321,
     "end_time": "2024-09-02T18:36:17.350863",
     "exception": false,
     "start_time": "2024-09-02T18:36:17.308542",
     "status": "completed"
    },
    "tags": []
   },
   "source": [
    "The two warnings are due to the fact that `sqrt()` and `log()` are undefined for negative numbers, which is why there is a `np.nan` value in the first cell of the output of these two functions."
   ]
  },
  {
   "cell_type": "markdown",
   "id": "3d5c0141",
   "metadata": {
    "papermill": {
     "duration": 0.041711,
     "end_time": "2024-09-02T18:36:17.434336",
     "exception": false,
     "start_time": "2024-09-02T18:36:17.392625",
     "status": "completed"
    },
    "tags": []
   },
   "source": [
    "## Binary ufuncs\n",
    "There are also many binary ufuncs, that apply elementwise on two `ndarray`s.  Broadcasting rules are applied if the arrays do not have the same shape:"
   ]
  },
  {
   "cell_type": "code",
   "execution_count": 58,
   "id": "5ef6ad9a",
   "metadata": {
    "execution": {
     "iopub.execute_input": "2024-09-02T18:36:17.529979Z",
     "iopub.status.busy": "2024-09-02T18:36:17.529063Z",
     "iopub.status.idle": "2024-09-02T18:36:17.537520Z",
     "shell.execute_reply": "2024-09-02T18:36:17.536417Z"
    },
    "papermill": {
     "duration": 0.06368,
     "end_time": "2024-09-02T18:36:17.540049",
     "exception": false,
     "start_time": "2024-09-02T18:36:17.476369",
     "status": "completed"
    },
    "tags": []
   },
   "outputs": [
    {
     "data": {
      "text/plain": [
       "array([ 3,  6,  2, 11])"
      ]
     },
     "execution_count": 58,
     "metadata": {},
     "output_type": "execute_result"
    }
   ],
   "source": [
    "a = np.array([1,-2,3,4])\n",
    "b = np.array([2,8,-1,7])\n",
    "np.add(a,b)"
   ]
  },
  {
   "cell_type": "code",
   "execution_count": 59,
   "id": "886154fa",
   "metadata": {
    "execution": {
     "iopub.execute_input": "2024-09-02T18:36:17.639426Z",
     "iopub.status.busy": "2024-09-02T18:36:17.639015Z",
     "iopub.status.idle": "2024-09-02T18:36:17.646361Z",
     "shell.execute_reply": "2024-09-02T18:36:17.645294Z"
    },
    "papermill": {
     "duration": 0.052748,
     "end_time": "2024-09-02T18:36:17.648485",
     "exception": false,
     "start_time": "2024-09-02T18:36:17.595737",
     "status": "completed"
    },
    "tags": []
   },
   "outputs": [
    {
     "data": {
      "text/plain": [
       "array([False, False,  True, False])"
      ]
     },
     "execution_count": 59,
     "metadata": {},
     "output_type": "execute_result"
    }
   ],
   "source": [
    "np.greater(a, b)"
   ]
  },
  {
   "cell_type": "code",
   "execution_count": 60,
   "id": "bc72ec5b",
   "metadata": {
    "execution": {
     "iopub.execute_input": "2024-09-02T18:36:17.735313Z",
     "iopub.status.busy": "2024-09-02T18:36:17.734911Z",
     "iopub.status.idle": "2024-09-02T18:36:17.741332Z",
     "shell.execute_reply": "2024-09-02T18:36:17.740422Z"
    },
    "papermill": {
     "duration": 0.051987,
     "end_time": "2024-09-02T18:36:17.743467",
     "exception": false,
     "start_time": "2024-09-02T18:36:17.691480",
     "status": "completed"
    },
    "tags": []
   },
   "outputs": [
    {
     "data": {
      "text/plain": [
       "array([2, 8, 3, 7])"
      ]
     },
     "execution_count": 60,
     "metadata": {},
     "output_type": "execute_result"
    }
   ],
   "source": [
    "np.maximum(a,b)"
   ]
  },
  {
   "cell_type": "code",
   "execution_count": 61,
   "id": "4d278e49",
   "metadata": {
    "execution": {
     "iopub.execute_input": "2024-09-02T18:36:17.828905Z",
     "iopub.status.busy": "2024-09-02T18:36:17.828469Z",
     "iopub.status.idle": "2024-09-02T18:36:17.835493Z",
     "shell.execute_reply": "2024-09-02T18:36:17.834539Z"
    },
    "papermill": {
     "duration": 0.052199,
     "end_time": "2024-09-02T18:36:17.837526",
     "exception": false,
     "start_time": "2024-09-02T18:36:17.785327",
     "status": "completed"
    },
    "tags": []
   },
   "outputs": [
    {
     "data": {
      "text/plain": [
       "array([ 1.,  2., -3.,  4.])"
      ]
     },
     "execution_count": 61,
     "metadata": {},
     "output_type": "execute_result"
    }
   ],
   "source": [
    "np.copysign(a,b)"
   ]
  },
  {
   "cell_type": "markdown",
   "id": "d79d1ef4",
   "metadata": {
    "papermill": {
     "duration": 0.042325,
     "end_time": "2024-09-02T18:36:17.922016",
     "exception": false,
     "start_time": "2024-09-02T18:36:17.879691",
     "status": "completed"
    },
    "tags": []
   },
   "source": [
    "# Array indexing\n",
    "## One-dimensional arrays\n",
    "One-dimensional NumPy arrays can be accessed more or less like regular python arrays:"
   ]
  },
  {
   "cell_type": "code",
   "execution_count": 62,
   "id": "5142bdd0",
   "metadata": {
    "execution": {
     "iopub.execute_input": "2024-09-02T18:36:18.059872Z",
     "iopub.status.busy": "2024-09-02T18:36:18.059444Z",
     "iopub.status.idle": "2024-09-02T18:36:18.066577Z",
     "shell.execute_reply": "2024-09-02T18:36:18.065499Z"
    },
    "papermill": {
     "duration": 0.103835,
     "end_time": "2024-09-02T18:36:18.068668",
     "exception": false,
     "start_time": "2024-09-02T18:36:17.964833",
     "status": "completed"
    },
    "tags": []
   },
   "outputs": [
    {
     "data": {
      "text/plain": [
       "19"
      ]
     },
     "execution_count": 62,
     "metadata": {},
     "output_type": "execute_result"
    }
   ],
   "source": [
    "a = np.array([1,5,3,19,13,7,3])\n",
    "a[3]"
   ]
  },
  {
   "cell_type": "code",
   "execution_count": 63,
   "id": "8054fb39",
   "metadata": {
    "execution": {
     "iopub.execute_input": "2024-09-02T18:36:18.155193Z",
     "iopub.status.busy": "2024-09-02T18:36:18.154434Z",
     "iopub.status.idle": "2024-09-02T18:36:18.161066Z",
     "shell.execute_reply": "2024-09-02T18:36:18.160086Z"
    },
    "papermill": {
     "duration": 0.052294,
     "end_time": "2024-09-02T18:36:18.163206",
     "exception": false,
     "start_time": "2024-09-02T18:36:18.110912",
     "status": "completed"
    },
    "tags": []
   },
   "outputs": [
    {
     "data": {
      "text/plain": [
       "array([ 3, 19, 13])"
      ]
     },
     "execution_count": 63,
     "metadata": {},
     "output_type": "execute_result"
    }
   ],
   "source": [
    "a[2:5]"
   ]
  },
  {
   "cell_type": "code",
   "execution_count": 64,
   "id": "f17b9a51",
   "metadata": {
    "execution": {
     "iopub.execute_input": "2024-09-02T18:36:18.250443Z",
     "iopub.status.busy": "2024-09-02T18:36:18.250046Z",
     "iopub.status.idle": "2024-09-02T18:36:18.257066Z",
     "shell.execute_reply": "2024-09-02T18:36:18.256026Z"
    },
    "papermill": {
     "duration": 0.052945,
     "end_time": "2024-09-02T18:36:18.259144",
     "exception": false,
     "start_time": "2024-09-02T18:36:18.206199",
     "status": "completed"
    },
    "tags": []
   },
   "outputs": [
    {
     "data": {
      "text/plain": [
       "array([ 3, 19, 13,  7])"
      ]
     },
     "execution_count": 64,
     "metadata": {},
     "output_type": "execute_result"
    }
   ],
   "source": [
    "a[2:-1]"
   ]
  },
  {
   "cell_type": "code",
   "execution_count": 65,
   "id": "ef8620db",
   "metadata": {
    "execution": {
     "iopub.execute_input": "2024-09-02T18:36:18.346649Z",
     "iopub.status.busy": "2024-09-02T18:36:18.346224Z",
     "iopub.status.idle": "2024-09-02T18:36:18.353146Z",
     "shell.execute_reply": "2024-09-02T18:36:18.352178Z"
    },
    "papermill": {
     "duration": 0.052972,
     "end_time": "2024-09-02T18:36:18.355076",
     "exception": false,
     "start_time": "2024-09-02T18:36:18.302104",
     "status": "completed"
    },
    "tags": []
   },
   "outputs": [
    {
     "data": {
      "text/plain": [
       "array([1, 5])"
      ]
     },
     "execution_count": 65,
     "metadata": {},
     "output_type": "execute_result"
    }
   ],
   "source": [
    "a[:2]"
   ]
  },
  {
   "cell_type": "code",
   "execution_count": 66,
   "id": "c45704ab",
   "metadata": {
    "execution": {
     "iopub.execute_input": "2024-09-02T18:36:18.441846Z",
     "iopub.status.busy": "2024-09-02T18:36:18.441314Z",
     "iopub.status.idle": "2024-09-02T18:36:18.447753Z",
     "shell.execute_reply": "2024-09-02T18:36:18.446824Z"
    },
    "papermill": {
     "duration": 0.052243,
     "end_time": "2024-09-02T18:36:18.449664",
     "exception": false,
     "start_time": "2024-09-02T18:36:18.397421",
     "status": "completed"
    },
    "tags": []
   },
   "outputs": [
    {
     "data": {
      "text/plain": [
       "array([ 3, 13,  3])"
      ]
     },
     "execution_count": 66,
     "metadata": {},
     "output_type": "execute_result"
    }
   ],
   "source": [
    "a[2::2]"
   ]
  },
  {
   "cell_type": "code",
   "execution_count": 67,
   "id": "ad21ef36",
   "metadata": {
    "execution": {
     "iopub.execute_input": "2024-09-02T18:36:18.536770Z",
     "iopub.status.busy": "2024-09-02T18:36:18.536340Z",
     "iopub.status.idle": "2024-09-02T18:36:18.543148Z",
     "shell.execute_reply": "2024-09-02T18:36:18.542200Z"
    },
    "papermill": {
     "duration": 0.053018,
     "end_time": "2024-09-02T18:36:18.545315",
     "exception": false,
     "start_time": "2024-09-02T18:36:18.492297",
     "status": "completed"
    },
    "tags": []
   },
   "outputs": [
    {
     "data": {
      "text/plain": [
       "array([ 3,  7, 13, 19,  3,  5,  1])"
      ]
     },
     "execution_count": 67,
     "metadata": {},
     "output_type": "execute_result"
    }
   ],
   "source": [
    "a[::-1]"
   ]
  },
  {
   "cell_type": "code",
   "execution_count": 68,
   "id": "5ffee868",
   "metadata": {
    "execution": {
     "iopub.execute_input": "2024-09-02T18:36:18.635753Z",
     "iopub.status.busy": "2024-09-02T18:36:18.634792Z",
     "iopub.status.idle": "2024-09-02T18:36:18.641453Z",
     "shell.execute_reply": "2024-09-02T18:36:18.640501Z"
    },
    "papermill": {
     "duration": 0.053798,
     "end_time": "2024-09-02T18:36:18.643640",
     "exception": false,
     "start_time": "2024-09-02T18:36:18.589842",
     "status": "completed"
    },
    "tags": []
   },
   "outputs": [
    {
     "data": {
      "text/plain": [
       "array([  1,   5,   3, 999,  13,   7,   3])"
      ]
     },
     "execution_count": 68,
     "metadata": {},
     "output_type": "execute_result"
    }
   ],
   "source": [
    "a[3] = 999\n",
    "a"
   ]
  },
  {
   "cell_type": "code",
   "execution_count": 69,
   "id": "2525b60d",
   "metadata": {
    "execution": {
     "iopub.execute_input": "2024-09-02T18:36:18.731876Z",
     "iopub.status.busy": "2024-09-02T18:36:18.730973Z",
     "iopub.status.idle": "2024-09-02T18:36:18.737887Z",
     "shell.execute_reply": "2024-09-02T18:36:18.736932Z"
    },
    "papermill": {
     "duration": 0.053187,
     "end_time": "2024-09-02T18:36:18.740055",
     "exception": false,
     "start_time": "2024-09-02T18:36:18.686868",
     "status": "completed"
    },
    "tags": []
   },
   "outputs": [
    {
     "data": {
      "text/plain": [
       "array([  1,   5, 997, 998, 999,   7,   3])"
      ]
     },
     "execution_count": 69,
     "metadata": {},
     "output_type": "execute_result"
    }
   ],
   "source": [
    "a[2:5] = [997,998,999]\n",
    "a"
   ]
  },
  {
   "cell_type": "markdown",
   "id": "49b49360",
   "metadata": {
    "papermill": {
     "duration": 0.042818,
     "end_time": "2024-09-02T18:36:18.825684",
     "exception": false,
     "start_time": "2024-09-02T18:36:18.782866",
     "status": "completed"
    },
    "tags": []
   },
   "source": [
    "## Differences with regular python arrays\n",
    "Contrary to regular python arrays, if you assign a single value to an `ndarray` slice, it is copied across the whole slice, thanks to broadcasting rules discussed above."
   ]
  },
  {
   "cell_type": "code",
   "execution_count": 70,
   "id": "a89b6ffb",
   "metadata": {
    "execution": {
     "iopub.execute_input": "2024-09-02T18:36:18.913697Z",
     "iopub.status.busy": "2024-09-02T18:36:18.912963Z",
     "iopub.status.idle": "2024-09-02T18:36:18.919874Z",
     "shell.execute_reply": "2024-09-02T18:36:18.918900Z"
    },
    "papermill": {
     "duration": 0.053568,
     "end_time": "2024-09-02T18:36:18.921952",
     "exception": false,
     "start_time": "2024-09-02T18:36:18.868384",
     "status": "completed"
    },
    "tags": []
   },
   "outputs": [
    {
     "data": {
      "text/plain": [
       "array([ 1,  5, -1, -1, -1,  7,  3])"
      ]
     },
     "execution_count": 70,
     "metadata": {},
     "output_type": "execute_result"
    }
   ],
   "source": [
    "a[2:5] = -1\n",
    "a"
   ]
  },
  {
   "cell_type": "code",
   "execution_count": 71,
   "id": "30451a0d",
   "metadata": {
    "execution": {
     "iopub.execute_input": "2024-09-02T18:36:19.010514Z",
     "iopub.status.busy": "2024-09-02T18:36:19.009682Z",
     "iopub.status.idle": "2024-09-02T18:36:19.015647Z",
     "shell.execute_reply": "2024-09-02T18:36:19.014465Z"
    },
    "papermill": {
     "duration": 0.05267,
     "end_time": "2024-09-02T18:36:19.017907",
     "exception": false,
     "start_time": "2024-09-02T18:36:18.965237",
     "status": "completed"
    },
    "tags": []
   },
   "outputs": [
    {
     "name": "stdout",
     "output_type": "stream",
     "text": [
      "could not broadcast input array from shape (6,) into shape (3,)\n"
     ]
    }
   ],
   "source": [
    "try :\n",
    "    a[2:5] = [1,2,3,4,5,6]\n",
    "except ValueError as e:\n",
    "    print(e)"
   ]
  },
  {
   "cell_type": "code",
   "execution_count": 72,
   "id": "19512942",
   "metadata": {
    "execution": {
     "iopub.execute_input": "2024-09-02T18:36:19.106109Z",
     "iopub.status.busy": "2024-09-02T18:36:19.105366Z",
     "iopub.status.idle": "2024-09-02T18:36:19.110850Z",
     "shell.execute_reply": "2024-09-02T18:36:19.109870Z"
    },
    "papermill": {
     "duration": 0.05243,
     "end_time": "2024-09-02T18:36:19.113422",
     "exception": false,
     "start_time": "2024-09-02T18:36:19.060992",
     "status": "completed"
    },
    "tags": []
   },
   "outputs": [
    {
     "name": "stdout",
     "output_type": "stream",
     "text": [
      "cannot delete array elements\n"
     ]
    }
   ],
   "source": [
    "try :\n",
    "    del a[2:5]\n",
    "except ValueError as e:\n",
    "    print(e)"
   ]
  },
  {
   "cell_type": "markdown",
   "id": "5f8913b7",
   "metadata": {
    "papermill": {
     "duration": 0.04284,
     "end_time": "2024-09-02T18:36:19.199453",
     "exception": false,
     "start_time": "2024-09-02T18:36:19.156613",
     "status": "completed"
    },
    "tags": []
   },
   "source": [
    "### Last but not least, `ndarray` **slices are actually *views*** on the same data buffer. This means that if you create a slice and modify it, you are actually going to modify the original `ndarray` as well!"
   ]
  },
  {
   "cell_type": "code",
   "execution_count": 73,
   "id": "26a7a942",
   "metadata": {
    "execution": {
     "iopub.execute_input": "2024-09-02T18:36:19.288148Z",
     "iopub.status.busy": "2024-09-02T18:36:19.287386Z",
     "iopub.status.idle": "2024-09-02T18:36:19.295048Z",
     "shell.execute_reply": "2024-09-02T18:36:19.293912Z"
    },
    "papermill": {
     "duration": 0.054404,
     "end_time": "2024-09-02T18:36:19.297245",
     "exception": false,
     "start_time": "2024-09-02T18:36:19.242841",
     "status": "completed"
    },
    "tags": []
   },
   "outputs": [
    {
     "data": {
      "text/plain": [
       "array([   1,    5,   -1, 1000,   -1,    7,    3])"
      ]
     },
     "execution_count": 73,
     "metadata": {},
     "output_type": "execute_result"
    }
   ],
   "source": [
    "a_slice = a[2:6]\n",
    "a_slice[1] = 1000\n",
    "a"
   ]
  },
  {
   "cell_type": "code",
   "execution_count": 74,
   "id": "6853708f",
   "metadata": {
    "execution": {
     "iopub.execute_input": "2024-09-02T18:36:19.386748Z",
     "iopub.status.busy": "2024-09-02T18:36:19.385930Z",
     "iopub.status.idle": "2024-09-02T18:36:19.392832Z",
     "shell.execute_reply": "2024-09-02T18:36:19.391796Z"
    },
    "papermill": {
     "duration": 0.054321,
     "end_time": "2024-09-02T18:36:19.395050",
     "exception": false,
     "start_time": "2024-09-02T18:36:19.340729",
     "status": "completed"
    },
    "tags": []
   },
   "outputs": [
    {
     "data": {
      "text/plain": [
       "array([  -1, 2000,   -1,    7])"
      ]
     },
     "execution_count": 74,
     "metadata": {},
     "output_type": "execute_result"
    }
   ],
   "source": [
    "a[3] = 2000\n",
    "a_slice\n"
   ]
  },
  {
   "cell_type": "code",
   "execution_count": 75,
   "id": "fd098a39",
   "metadata": {
    "execution": {
     "iopub.execute_input": "2024-09-02T18:36:19.485026Z",
     "iopub.status.busy": "2024-09-02T18:36:19.483973Z",
     "iopub.status.idle": "2024-09-02T18:36:19.491243Z",
     "shell.execute_reply": "2024-09-02T18:36:19.490073Z"
    },
    "papermill": {
     "duration": 0.054609,
     "end_time": "2024-09-02T18:36:19.493447",
     "exception": false,
     "start_time": "2024-09-02T18:36:19.438838",
     "status": "completed"
    },
    "tags": []
   },
   "outputs": [
    {
     "data": {
      "text/plain": [
       "array([   1,    5,   -1, 2000,   -1,    7,    3])"
      ]
     },
     "execution_count": 75,
     "metadata": {},
     "output_type": "execute_result"
    }
   ],
   "source": [
    "another_slice = a[2:6].copy()\n",
    "another_slice[1] = 3000\n",
    "a"
   ]
  },
  {
   "cell_type": "code",
   "execution_count": 76,
   "id": "76a2fe44",
   "metadata": {
    "execution": {
     "iopub.execute_input": "2024-09-02T18:36:19.583363Z",
     "iopub.status.busy": "2024-09-02T18:36:19.582885Z",
     "iopub.status.idle": "2024-09-02T18:36:19.589739Z",
     "shell.execute_reply": "2024-09-02T18:36:19.588764Z"
    },
    "papermill": {
     "duration": 0.054694,
     "end_time": "2024-09-02T18:36:19.591821",
     "exception": false,
     "start_time": "2024-09-02T18:36:19.537127",
     "status": "completed"
    },
    "tags": []
   },
   "outputs": [
    {
     "data": {
      "text/plain": [
       "array([  -1, 3000,   -1,    7])"
      ]
     },
     "execution_count": 76,
     "metadata": {},
     "output_type": "execute_result"
    }
   ],
   "source": [
    "a[3] = 4000\n",
    "another_slice"
   ]
  },
  {
   "cell_type": "markdown",
   "id": "6cfc60b4",
   "metadata": {
    "papermill": {
     "duration": 0.043936,
     "end_time": "2024-09-02T18:36:19.679744",
     "exception": false,
     "start_time": "2024-09-02T18:36:19.635808",
     "status": "completed"
    },
    "tags": []
   },
   "source": [
    "## Multidimensional arrays\n",
    "Multidimensional arrays can be accessed in a similar way by providing an index or slice for each axis, separated by commas:"
   ]
  },
  {
   "cell_type": "code",
   "execution_count": 77,
   "id": "0c743c21",
   "metadata": {
    "execution": {
     "iopub.execute_input": "2024-09-02T18:36:19.768650Z",
     "iopub.status.busy": "2024-09-02T18:36:19.768223Z",
     "iopub.status.idle": "2024-09-02T18:36:19.775496Z",
     "shell.execute_reply": "2024-09-02T18:36:19.774480Z"
    },
    "papermill": {
     "duration": 0.054438,
     "end_time": "2024-09-02T18:36:19.777704",
     "exception": false,
     "start_time": "2024-09-02T18:36:19.723266",
     "status": "completed"
    },
    "tags": []
   },
   "outputs": [
    {
     "data": {
      "text/plain": [
       "array([[ 0,  1,  2,  3,  4,  5,  6,  7,  8,  9, 10, 11],\n",
       "       [12, 13, 14, 15, 16, 17, 18, 19, 20, 21, 22, 23],\n",
       "       [24, 25, 26, 27, 28, 29, 30, 31, 32, 33, 34, 35],\n",
       "       [36, 37, 38, 39, 40, 41, 42, 43, 44, 45, 46, 47]])"
      ]
     },
     "execution_count": 77,
     "metadata": {},
     "output_type": "execute_result"
    }
   ],
   "source": [
    "b = np.arange(48).reshape(4,12)\n",
    "b"
   ]
  },
  {
   "cell_type": "code",
   "execution_count": 78,
   "id": "f7e97f2b",
   "metadata": {
    "execution": {
     "iopub.execute_input": "2024-09-02T18:36:19.866605Z",
     "iopub.status.busy": "2024-09-02T18:36:19.866152Z",
     "iopub.status.idle": "2024-09-02T18:36:19.872927Z",
     "shell.execute_reply": "2024-09-02T18:36:19.871942Z"
    },
    "papermill": {
     "duration": 0.053969,
     "end_time": "2024-09-02T18:36:19.875192",
     "exception": false,
     "start_time": "2024-09-02T18:36:19.821223",
     "status": "completed"
    },
    "tags": []
   },
   "outputs": [
    {
     "data": {
      "text/plain": [
       "14"
      ]
     },
     "execution_count": 78,
     "metadata": {},
     "output_type": "execute_result"
    }
   ],
   "source": [
    "b[1,2]"
   ]
  },
  {
   "cell_type": "code",
   "execution_count": 79,
   "id": "36823994",
   "metadata": {
    "execution": {
     "iopub.execute_input": "2024-09-02T18:36:19.964833Z",
     "iopub.status.busy": "2024-09-02T18:36:19.964248Z",
     "iopub.status.idle": "2024-09-02T18:36:19.970995Z",
     "shell.execute_reply": "2024-09-02T18:36:19.970051Z"
    },
    "papermill": {
     "duration": 0.053981,
     "end_time": "2024-09-02T18:36:19.973086",
     "exception": false,
     "start_time": "2024-09-02T18:36:19.919105",
     "status": "completed"
    },
    "tags": []
   },
   "outputs": [
    {
     "data": {
      "text/plain": [
       "array([12, 13, 14, 15, 16, 17, 18, 19, 20, 21, 22, 23])"
      ]
     },
     "execution_count": 79,
     "metadata": {},
     "output_type": "execute_result"
    }
   ],
   "source": [
    "b[1,:]"
   ]
  },
  {
   "cell_type": "code",
   "execution_count": 80,
   "id": "122a7c78",
   "metadata": {
    "execution": {
     "iopub.execute_input": "2024-09-02T18:36:20.063212Z",
     "iopub.status.busy": "2024-09-02T18:36:20.062823Z",
     "iopub.status.idle": "2024-09-02T18:36:20.069946Z",
     "shell.execute_reply": "2024-09-02T18:36:20.068934Z"
    },
    "papermill": {
     "duration": 0.054402,
     "end_time": "2024-09-02T18:36:20.072046",
     "exception": false,
     "start_time": "2024-09-02T18:36:20.017644",
     "status": "completed"
    },
    "tags": []
   },
   "outputs": [
    {
     "data": {
      "text/plain": [
       "array([ 1, 13, 25, 37])"
      ]
     },
     "execution_count": 80,
     "metadata": {},
     "output_type": "execute_result"
    }
   ],
   "source": [
    "b[:, 1]"
   ]
  },
  {
   "cell_type": "code",
   "execution_count": 81,
   "id": "2d072f9c",
   "metadata": {
    "execution": {
     "iopub.execute_input": "2024-09-02T18:36:20.165720Z",
     "iopub.status.busy": "2024-09-02T18:36:20.165296Z",
     "iopub.status.idle": "2024-09-02T18:36:20.172332Z",
     "shell.execute_reply": "2024-09-02T18:36:20.171324Z"
    },
    "papermill": {
     "duration": 0.056229,
     "end_time": "2024-09-02T18:36:20.174451",
     "exception": false,
     "start_time": "2024-09-02T18:36:20.118222",
     "status": "completed"
    },
    "tags": []
   },
   "outputs": [
    {
     "data": {
      "text/plain": [
       "array([12, 13, 14, 15, 16, 17, 18, 19, 20, 21, 22, 23])"
      ]
     },
     "execution_count": 81,
     "metadata": {},
     "output_type": "execute_result"
    }
   ],
   "source": [
    "b[1, :]"
   ]
  },
  {
   "cell_type": "code",
   "execution_count": 82,
   "id": "26e9b31c",
   "metadata": {
    "execution": {
     "iopub.execute_input": "2024-09-02T18:36:20.265224Z",
     "iopub.status.busy": "2024-09-02T18:36:20.264473Z",
     "iopub.status.idle": "2024-09-02T18:36:20.270958Z",
     "shell.execute_reply": "2024-09-02T18:36:20.270021Z"
    },
    "papermill": {
     "duration": 0.053924,
     "end_time": "2024-09-02T18:36:20.272938",
     "exception": false,
     "start_time": "2024-09-02T18:36:20.219014",
     "status": "completed"
    },
    "tags": []
   },
   "outputs": [
    {
     "data": {
      "text/plain": [
       "array([[12, 13, 14, 15, 16, 17, 18, 19, 20, 21, 22, 23]])"
      ]
     },
     "execution_count": 82,
     "metadata": {},
     "output_type": "execute_result"
    }
   ],
   "source": [
    "b[1:2, :]"
   ]
  },
  {
   "cell_type": "markdown",
   "id": "bacb81bb",
   "metadata": {
    "papermill": {
     "duration": 0.044788,
     "end_time": "2024-09-02T18:36:20.362097",
     "exception": false,
     "start_time": "2024-09-02T18:36:20.317309",
     "status": "completed"
    },
    "tags": []
   },
   "source": [
    "## Fancy indexing\n",
    "You may also specify a list of indices that you are interested in. This is referred to as *fancy indexing*."
   ]
  },
  {
   "cell_type": "code",
   "execution_count": 83,
   "id": "b0d63312",
   "metadata": {
    "execution": {
     "iopub.execute_input": "2024-09-02T18:36:20.453768Z",
     "iopub.status.busy": "2024-09-02T18:36:20.453328Z",
     "iopub.status.idle": "2024-09-02T18:36:20.460125Z",
     "shell.execute_reply": "2024-09-02T18:36:20.459128Z"
    },
    "papermill": {
     "duration": 0.055093,
     "end_time": "2024-09-02T18:36:20.462200",
     "exception": false,
     "start_time": "2024-09-02T18:36:20.407107",
     "status": "completed"
    },
    "tags": []
   },
   "outputs": [
    {
     "data": {
      "text/plain": [
       "array([[ 2,  3,  4],\n",
       "       [26, 27, 28]])"
      ]
     },
     "execution_count": 83,
     "metadata": {},
     "output_type": "execute_result"
    }
   ],
   "source": [
    "b[(0,2), 2:5]"
   ]
  },
  {
   "cell_type": "code",
   "execution_count": 84,
   "id": "ce6a6b64",
   "metadata": {
    "execution": {
     "iopub.execute_input": "2024-09-02T18:36:20.553463Z",
     "iopub.status.busy": "2024-09-02T18:36:20.553077Z",
     "iopub.status.idle": "2024-09-02T18:36:20.560693Z",
     "shell.execute_reply": "2024-09-02T18:36:20.559388Z"
    },
    "papermill": {
     "duration": 0.056284,
     "end_time": "2024-09-02T18:36:20.562896",
     "exception": false,
     "start_time": "2024-09-02T18:36:20.506612",
     "status": "completed"
    },
    "tags": []
   },
   "outputs": [
    {
     "data": {
      "text/plain": [
       "array([[11,  2, 11],\n",
       "       [23, 14, 23],\n",
       "       [35, 26, 35],\n",
       "       [47, 38, 47]])"
      ]
     },
     "execution_count": 84,
     "metadata": {},
     "output_type": "execute_result"
    }
   ],
   "source": [
    "b[:, (-1,2,-1)]"
   ]
  },
  {
   "cell_type": "markdown",
   "id": "a9d460fe",
   "metadata": {
    "papermill": {
     "duration": 0.044507,
     "end_time": "2024-09-02T18:36:20.653789",
     "exception": false,
     "start_time": "2024-09-02T18:36:20.609282",
     "status": "completed"
    },
    "tags": []
   },
   "source": [
    "If you provide multiple index arrays, you get a 1D `ndarray` containing the values of the elements at the specified coordinates."
   ]
  },
  {
   "cell_type": "code",
   "execution_count": 85,
   "id": "c78d4679",
   "metadata": {
    "execution": {
     "iopub.execute_input": "2024-09-02T18:36:20.747193Z",
     "iopub.status.busy": "2024-09-02T18:36:20.746229Z",
     "iopub.status.idle": "2024-09-02T18:36:20.753367Z",
     "shell.execute_reply": "2024-09-02T18:36:20.752370Z"
    },
    "papermill": {
     "duration": 0.056172,
     "end_time": "2024-09-02T18:36:20.755661",
     "exception": false,
     "start_time": "2024-09-02T18:36:20.699489",
     "status": "completed"
    },
    "tags": []
   },
   "outputs": [
    {
     "data": {
      "text/plain": [
       "array([41, 33, 37, 33])"
      ]
     },
     "execution_count": 85,
     "metadata": {},
     "output_type": "execute_result"
    }
   ],
   "source": [
    "b[(-1,2,-1,2), (5,9,1,9)]"
   ]
  },
  {
   "cell_type": "markdown",
   "id": "bb7af41b",
   "metadata": {
    "papermill": {
     "duration": 0.043952,
     "end_time": "2024-09-02T18:36:20.844899",
     "exception": false,
     "start_time": "2024-09-02T18:36:20.800947",
     "status": "completed"
    },
    "tags": []
   },
   "source": [
    "## Higher dimensions\n",
    "Everything works just as well with higher dimensional arrays, but it's useful to look at a few examples:"
   ]
  },
  {
   "cell_type": "code",
   "execution_count": 86,
   "id": "6f99aadc",
   "metadata": {
    "execution": {
     "iopub.execute_input": "2024-09-02T18:36:20.935739Z",
     "iopub.status.busy": "2024-09-02T18:36:20.935313Z",
     "iopub.status.idle": "2024-09-02T18:36:20.942587Z",
     "shell.execute_reply": "2024-09-02T18:36:20.941524Z"
    },
    "papermill": {
     "duration": 0.055073,
     "end_time": "2024-09-02T18:36:20.944669",
     "exception": false,
     "start_time": "2024-09-02T18:36:20.889596",
     "status": "completed"
    },
    "tags": []
   },
   "outputs": [
    {
     "data": {
      "text/plain": [
       "array([[[ 0,  1,  2,  3,  4,  5],\n",
       "        [ 6,  7,  8,  9, 10, 11]],\n",
       "\n",
       "       [[12, 13, 14, 15, 16, 17],\n",
       "        [18, 19, 20, 21, 22, 23]],\n",
       "\n",
       "       [[24, 25, 26, 27, 28, 29],\n",
       "        [30, 31, 32, 33, 34, 35]],\n",
       "\n",
       "       [[36, 37, 38, 39, 40, 41],\n",
       "        [42, 43, 44, 45, 46, 47]]])"
      ]
     },
     "execution_count": 86,
     "metadata": {},
     "output_type": "execute_result"
    }
   ],
   "source": [
    "c = b.reshape(4,2,6)\n",
    "c"
   ]
  },
  {
   "cell_type": "code",
   "execution_count": 87,
   "id": "7910df3a",
   "metadata": {
    "execution": {
     "iopub.execute_input": "2024-09-02T18:36:21.036457Z",
     "iopub.status.busy": "2024-09-02T18:36:21.036063Z",
     "iopub.status.idle": "2024-09-02T18:36:21.042936Z",
     "shell.execute_reply": "2024-09-02T18:36:21.041903Z"
    },
    "papermill": {
     "duration": 0.055729,
     "end_time": "2024-09-02T18:36:21.045190",
     "exception": false,
     "start_time": "2024-09-02T18:36:20.989461",
     "status": "completed"
    },
    "tags": []
   },
   "outputs": [
    {
     "data": {
      "text/plain": [
       "34"
      ]
     },
     "execution_count": 87,
     "metadata": {},
     "output_type": "execute_result"
    }
   ],
   "source": [
    "c[2,1,4]"
   ]
  },
  {
   "cell_type": "code",
   "execution_count": 88,
   "id": "33fb3fe1",
   "metadata": {
    "execution": {
     "iopub.execute_input": "2024-09-02T18:36:21.137579Z",
     "iopub.status.busy": "2024-09-02T18:36:21.137187Z",
     "iopub.status.idle": "2024-09-02T18:36:21.144031Z",
     "shell.execute_reply": "2024-09-02T18:36:21.142996Z"
    },
    "papermill": {
     "duration": 0.054955,
     "end_time": "2024-09-02T18:36:21.146038",
     "exception": false,
     "start_time": "2024-09-02T18:36:21.091083",
     "status": "completed"
    },
    "tags": []
   },
   "outputs": [
    {
     "data": {
      "text/plain": [
       "array([27, 33])"
      ]
     },
     "execution_count": 88,
     "metadata": {},
     "output_type": "execute_result"
    }
   ],
   "source": [
    "c[2, :, 3]"
   ]
  },
  {
   "cell_type": "code",
   "execution_count": 89,
   "id": "757b3a0c",
   "metadata": {
    "execution": {
     "iopub.execute_input": "2024-09-02T18:36:21.237655Z",
     "iopub.status.busy": "2024-09-02T18:36:21.237222Z",
     "iopub.status.idle": "2024-09-02T18:36:21.243881Z",
     "shell.execute_reply": "2024-09-02T18:36:21.242819Z"
    },
    "papermill": {
     "duration": 0.054827,
     "end_time": "2024-09-02T18:36:21.245896",
     "exception": false,
     "start_time": "2024-09-02T18:36:21.191069",
     "status": "completed"
    },
    "tags": []
   },
   "outputs": [
    {
     "data": {
      "text/plain": [
       "array([30, 31, 32, 33, 34, 35])"
      ]
     },
     "execution_count": 89,
     "metadata": {},
     "output_type": "execute_result"
    }
   ],
   "source": [
    "c[2,1]"
   ]
  },
  {
   "cell_type": "markdown",
   "id": "ce402255",
   "metadata": {
    "papermill": {
     "duration": 0.044248,
     "end_time": "2024-09-02T18:36:21.335352",
     "exception": false,
     "start_time": "2024-09-02T18:36:21.291104",
     "status": "completed"
    },
    "tags": []
   },
   "source": [
    "## Ellipsis (`...`)\n",
    "You may also write an ellipsis (`...`) to ask that all non-specified axes be entirely included."
   ]
  },
  {
   "cell_type": "code",
   "execution_count": 90,
   "id": "a26e9cd7",
   "metadata": {
    "execution": {
     "iopub.execute_input": "2024-09-02T18:36:21.429429Z",
     "iopub.status.busy": "2024-09-02T18:36:21.428463Z",
     "iopub.status.idle": "2024-09-02T18:36:21.435409Z",
     "shell.execute_reply": "2024-09-02T18:36:21.434390Z"
    },
    "papermill": {
     "duration": 0.056187,
     "end_time": "2024-09-02T18:36:21.437524",
     "exception": false,
     "start_time": "2024-09-02T18:36:21.381337",
     "status": "completed"
    },
    "tags": []
   },
   "outputs": [
    {
     "data": {
      "text/plain": [
       "array([[24, 25, 26, 27, 28, 29],\n",
       "       [30, 31, 32, 33, 34, 35]])"
      ]
     },
     "execution_count": 90,
     "metadata": {},
     "output_type": "execute_result"
    }
   ],
   "source": [
    "c[2,...]"
   ]
  },
  {
   "cell_type": "code",
   "execution_count": 91,
   "id": "02c9c1a2",
   "metadata": {
    "execution": {
     "iopub.execute_input": "2024-09-02T18:36:21.530199Z",
     "iopub.status.busy": "2024-09-02T18:36:21.529373Z",
     "iopub.status.idle": "2024-09-02T18:36:21.536684Z",
     "shell.execute_reply": "2024-09-02T18:36:21.535644Z"
    },
    "papermill": {
     "duration": 0.056084,
     "end_time": "2024-09-02T18:36:21.539014",
     "exception": false,
     "start_time": "2024-09-02T18:36:21.482930",
     "status": "completed"
    },
    "tags": []
   },
   "outputs": [
    {
     "data": {
      "text/plain": [
       "array([30, 31, 32, 33, 34, 35])"
      ]
     },
     "execution_count": 91,
     "metadata": {},
     "output_type": "execute_result"
    }
   ],
   "source": [
    "c[2,1,...]"
   ]
  },
  {
   "cell_type": "code",
   "execution_count": 92,
   "id": "4b566569",
   "metadata": {
    "execution": {
     "iopub.execute_input": "2024-09-02T18:36:21.634362Z",
     "iopub.status.busy": "2024-09-02T18:36:21.633532Z",
     "iopub.status.idle": "2024-09-02T18:36:21.640324Z",
     "shell.execute_reply": "2024-09-02T18:36:21.639378Z"
    },
    "papermill": {
     "duration": 0.057069,
     "end_time": "2024-09-02T18:36:21.642427",
     "exception": false,
     "start_time": "2024-09-02T18:36:21.585358",
     "status": "completed"
    },
    "tags": []
   },
   "outputs": [
    {
     "data": {
      "text/plain": [
       "array([27, 33])"
      ]
     },
     "execution_count": 92,
     "metadata": {},
     "output_type": "execute_result"
    }
   ],
   "source": [
    "c[2, ...,3]"
   ]
  },
  {
   "cell_type": "code",
   "execution_count": 93,
   "id": "f5914136",
   "metadata": {
    "execution": {
     "iopub.execute_input": "2024-09-02T18:36:21.735260Z",
     "iopub.status.busy": "2024-09-02T18:36:21.734830Z",
     "iopub.status.idle": "2024-09-02T18:36:21.741802Z",
     "shell.execute_reply": "2024-09-02T18:36:21.740761Z"
    },
    "papermill": {
     "duration": 0.055611,
     "end_time": "2024-09-02T18:36:21.743874",
     "exception": false,
     "start_time": "2024-09-02T18:36:21.688263",
     "status": "completed"
    },
    "tags": []
   },
   "outputs": [
    {
     "data": {
      "text/plain": [
       "array([[ 3,  9],\n",
       "       [15, 21],\n",
       "       [27, 33],\n",
       "       [39, 45]])"
      ]
     },
     "execution_count": 93,
     "metadata": {},
     "output_type": "execute_result"
    }
   ],
   "source": [
    "c[...,3]"
   ]
  },
  {
   "cell_type": "markdown",
   "id": "5c62a44b",
   "metadata": {
    "papermill": {
     "duration": 0.045162,
     "end_time": "2024-09-02T18:36:21.834600",
     "exception": false,
     "start_time": "2024-09-02T18:36:21.789438",
     "status": "completed"
    },
    "tags": []
   },
   "source": [
    "## Boolean indexing\n",
    "You can also provide an `ndarray` of boolean values on one axis to specify the indices that you want to access."
   ]
  },
  {
   "cell_type": "code",
   "execution_count": 94,
   "id": "447528c3",
   "metadata": {
    "execution": {
     "iopub.execute_input": "2024-09-02T18:36:21.927205Z",
     "iopub.status.busy": "2024-09-02T18:36:21.926258Z",
     "iopub.status.idle": "2024-09-02T18:36:21.934064Z",
     "shell.execute_reply": "2024-09-02T18:36:21.932982Z"
    },
    "papermill": {
     "duration": 0.056592,
     "end_time": "2024-09-02T18:36:21.936576",
     "exception": false,
     "start_time": "2024-09-02T18:36:21.879984",
     "status": "completed"
    },
    "tags": []
   },
   "outputs": [
    {
     "data": {
      "text/plain": [
       "array([[ 0,  1,  2,  3,  4,  5,  6,  7,  8,  9, 10, 11],\n",
       "       [12, 13, 14, 15, 16, 17, 18, 19, 20, 21, 22, 23],\n",
       "       [24, 25, 26, 27, 28, 29, 30, 31, 32, 33, 34, 35],\n",
       "       [36, 37, 38, 39, 40, 41, 42, 43, 44, 45, 46, 47]])"
      ]
     },
     "execution_count": 94,
     "metadata": {},
     "output_type": "execute_result"
    }
   ],
   "source": [
    "b = np.arange(48).reshape(4,12)\n",
    "b"
   ]
  },
  {
   "cell_type": "code",
   "execution_count": 95,
   "id": "514e8ad7",
   "metadata": {
    "execution": {
     "iopub.execute_input": "2024-09-02T18:36:22.030768Z",
     "iopub.status.busy": "2024-09-02T18:36:22.030347Z",
     "iopub.status.idle": "2024-09-02T18:36:22.037947Z",
     "shell.execute_reply": "2024-09-02T18:36:22.036860Z"
    },
    "papermill": {
     "duration": 0.057295,
     "end_time": "2024-09-02T18:36:22.040133",
     "exception": false,
     "start_time": "2024-09-02T18:36:21.982838",
     "status": "completed"
    },
    "tags": []
   },
   "outputs": [
    {
     "data": {
      "text/plain": [
       "array([[ 0,  1,  2,  3,  4,  5,  6,  7,  8,  9, 10, 11],\n",
       "       [24, 25, 26, 27, 28, 29, 30, 31, 32, 33, 34, 35]])"
      ]
     },
     "execution_count": 95,
     "metadata": {},
     "output_type": "execute_result"
    }
   ],
   "source": [
    "rows_on = np.array([True, False, True, False])\n",
    "b[rows_on, :]"
   ]
  },
  {
   "cell_type": "code",
   "execution_count": 96,
   "id": "49fe6f81",
   "metadata": {
    "execution": {
     "iopub.execute_input": "2024-09-02T18:36:22.133353Z",
     "iopub.status.busy": "2024-09-02T18:36:22.132973Z",
     "iopub.status.idle": "2024-09-02T18:36:22.140066Z",
     "shell.execute_reply": "2024-09-02T18:36:22.139053Z"
    },
    "papermill": {
     "duration": 0.056241,
     "end_time": "2024-09-02T18:36:22.142233",
     "exception": false,
     "start_time": "2024-09-02T18:36:22.085992",
     "status": "completed"
    },
    "tags": []
   },
   "outputs": [
    {
     "data": {
      "text/plain": [
       "array([[ 1,  4,  7, 10],\n",
       "       [13, 16, 19, 22],\n",
       "       [25, 28, 31, 34],\n",
       "       [37, 40, 43, 46]])"
      ]
     },
     "execution_count": 96,
     "metadata": {},
     "output_type": "execute_result"
    }
   ],
   "source": [
    "cols_on = np.array([False, True, False]* 4)\n",
    "b[:, cols_on]"
   ]
  },
  {
   "cell_type": "markdown",
   "id": "6c421f73",
   "metadata": {
    "papermill": {
     "duration": 0.046018,
     "end_time": "2024-09-02T18:36:22.234717",
     "exception": false,
     "start_time": "2024-09-02T18:36:22.188699",
     "status": "completed"
    },
    "tags": []
   },
   "source": [
    "## `np.ix_`\n",
    "You cannot use boolean indexing this way on multiple axes, but you can work around this by using the `ix_` function:"
   ]
  },
  {
   "cell_type": "code",
   "execution_count": 97,
   "id": "1ec1b531",
   "metadata": {
    "execution": {
     "iopub.execute_input": "2024-09-02T18:36:22.336854Z",
     "iopub.status.busy": "2024-09-02T18:36:22.336202Z",
     "iopub.status.idle": "2024-09-02T18:36:22.344285Z",
     "shell.execute_reply": "2024-09-02T18:36:22.343159Z"
    },
    "papermill": {
     "duration": 0.06622,
     "end_time": "2024-09-02T18:36:22.346806",
     "exception": false,
     "start_time": "2024-09-02T18:36:22.280586",
     "status": "completed"
    },
    "tags": []
   },
   "outputs": [
    {
     "data": {
      "text/plain": [
       "array([[ 1,  4,  7, 10],\n",
       "       [25, 28, 31, 34]])"
      ]
     },
     "execution_count": 97,
     "metadata": {},
     "output_type": "execute_result"
    }
   ],
   "source": [
    "b[np.ix_(rows_on, cols_on)]"
   ]
  },
  {
   "cell_type": "code",
   "execution_count": 98,
   "id": "ee8f5240",
   "metadata": {
    "execution": {
     "iopub.execute_input": "2024-09-02T18:36:22.458478Z",
     "iopub.status.busy": "2024-09-02T18:36:22.457462Z",
     "iopub.status.idle": "2024-09-02T18:36:22.464763Z",
     "shell.execute_reply": "2024-09-02T18:36:22.463644Z"
    },
    "papermill": {
     "duration": 0.058015,
     "end_time": "2024-09-02T18:36:22.466911",
     "exception": false,
     "start_time": "2024-09-02T18:36:22.408896",
     "status": "completed"
    },
    "tags": []
   },
   "outputs": [
    {
     "data": {
      "text/plain": [
       "(array([[0],\n",
       "        [2]]),\n",
       " array([[ 1,  4,  7, 10]]))"
      ]
     },
     "execution_count": 98,
     "metadata": {},
     "output_type": "execute_result"
    }
   ],
   "source": [
    "np.ix_(rows_on, cols_on)"
   ]
  },
  {
   "cell_type": "markdown",
   "id": "a0d6a33f",
   "metadata": {
    "papermill": {
     "duration": 0.047517,
     "end_time": "2024-09-02T18:36:22.582388",
     "exception": false,
     "start_time": "2024-09-02T18:36:22.534871",
     "status": "completed"
    },
    "tags": []
   },
   "source": [
    "If you use a boolean array that has the same shape as the `ndarray`, then you get in return a 1D array containing all the values that have `True` at their coordinate. This is generally used along with conditional operators:"
   ]
  },
  {
   "cell_type": "code",
   "execution_count": 99,
   "id": "f50c5c36",
   "metadata": {
    "execution": {
     "iopub.execute_input": "2024-09-02T18:36:22.683623Z",
     "iopub.status.busy": "2024-09-02T18:36:22.683199Z",
     "iopub.status.idle": "2024-09-02T18:36:22.690476Z",
     "shell.execute_reply": "2024-09-02T18:36:22.689457Z"
    },
    "papermill": {
     "duration": 0.06167,
     "end_time": "2024-09-02T18:36:22.692794",
     "exception": false,
     "start_time": "2024-09-02T18:36:22.631124",
     "status": "completed"
    },
    "tags": []
   },
   "outputs": [
    {
     "data": {
      "text/plain": [
       "array([ 1,  4,  7, 10, 13, 16, 19, 22, 25, 28, 31, 34, 37, 40, 43, 46])"
      ]
     },
     "execution_count": 99,
     "metadata": {},
     "output_type": "execute_result"
    }
   ],
   "source": [
    "b[b % 3 == 1]"
   ]
  },
  {
   "cell_type": "markdown",
   "id": "f86953ef",
   "metadata": {
    "papermill": {
     "duration": 0.108861,
     "end_time": "2024-09-02T18:36:22.848274",
     "exception": false,
     "start_time": "2024-09-02T18:36:22.739413",
     "status": "completed"
    },
    "tags": []
   },
   "source": [
    "# Iterating\n",
    "Iterating over `ndarray`s is very similar to iterating over regular python arrays. Note that iterating over multidimensional arrays is done with respect to the first axis."
   ]
  },
  {
   "cell_type": "code",
   "execution_count": 100,
   "id": "2fe8c4c8",
   "metadata": {
    "execution": {
     "iopub.execute_input": "2024-09-02T18:36:22.944349Z",
     "iopub.status.busy": "2024-09-02T18:36:22.943323Z",
     "iopub.status.idle": "2024-09-02T18:36:22.951112Z",
     "shell.execute_reply": "2024-09-02T18:36:22.949948Z"
    },
    "papermill": {
     "duration": 0.05905,
     "end_time": "2024-09-02T18:36:22.953822",
     "exception": false,
     "start_time": "2024-09-02T18:36:22.894772",
     "status": "completed"
    },
    "tags": []
   },
   "outputs": [
    {
     "data": {
      "text/plain": [
       "array([[[ 0,  1,  2,  3],\n",
       "        [ 4,  5,  6,  7],\n",
       "        [ 8,  9, 10, 11]],\n",
       "\n",
       "       [[12, 13, 14, 15],\n",
       "        [16, 17, 18, 19],\n",
       "        [20, 21, 22, 23]]])"
      ]
     },
     "execution_count": 100,
     "metadata": {},
     "output_type": "execute_result"
    }
   ],
   "source": [
    "c = np.arange(24).reshape(2,3,4)\n",
    "c"
   ]
  },
  {
   "cell_type": "code",
   "execution_count": 101,
   "id": "0ac173c9",
   "metadata": {
    "execution": {
     "iopub.execute_input": "2024-09-02T18:36:23.056904Z",
     "iopub.status.busy": "2024-09-02T18:36:23.055882Z",
     "iopub.status.idle": "2024-09-02T18:36:23.061985Z",
     "shell.execute_reply": "2024-09-02T18:36:23.060873Z"
    },
    "papermill": {
     "duration": 0.057187,
     "end_time": "2024-09-02T18:36:23.064722",
     "exception": false,
     "start_time": "2024-09-02T18:36:23.007535",
     "status": "completed"
    },
    "tags": []
   },
   "outputs": [
    {
     "name": "stdout",
     "output_type": "stream",
     "text": [
      "Item : \n",
      "[[ 0  1  2  3]\n",
      " [ 4  5  6  7]\n",
      " [ 8  9 10 11]]\n",
      "Item : \n",
      "[[12 13 14 15]\n",
      " [16 17 18 19]\n",
      " [20 21 22 23]]\n"
     ]
    }
   ],
   "source": [
    "for m in c:\n",
    "    print(\"Item : \")\n",
    "    print(m)"
   ]
  },
  {
   "cell_type": "code",
   "execution_count": 102,
   "id": "6444483e",
   "metadata": {
    "execution": {
     "iopub.execute_input": "2024-09-02T18:36:23.164005Z",
     "iopub.status.busy": "2024-09-02T18:36:23.163600Z",
     "iopub.status.idle": "2024-09-02T18:36:23.170041Z",
     "shell.execute_reply": "2024-09-02T18:36:23.168794Z"
    },
    "papermill": {
     "duration": 0.056169,
     "end_time": "2024-09-02T18:36:23.172220",
     "exception": false,
     "start_time": "2024-09-02T18:36:23.116051",
     "status": "completed"
    },
    "tags": []
   },
   "outputs": [
    {
     "name": "stdout",
     "output_type": "stream",
     "text": [
      "item\n",
      "[[ 0  1  2  3]\n",
      " [ 4  5  6  7]\n",
      " [ 8  9 10 11]]\n",
      "item\n",
      "[[12 13 14 15]\n",
      " [16 17 18 19]\n",
      " [20 21 22 23]]\n"
     ]
    }
   ],
   "source": [
    "for i in range(len(c)) :\n",
    "    print(\"item\")\n",
    "    print(c[i])"
   ]
  },
  {
   "cell_type": "code",
   "execution_count": 103,
   "id": "639c0488",
   "metadata": {
    "execution": {
     "iopub.execute_input": "2024-09-02T18:36:23.268244Z",
     "iopub.status.busy": "2024-09-02T18:36:23.267874Z",
     "iopub.status.idle": "2024-09-02T18:36:23.273754Z",
     "shell.execute_reply": "2024-09-02T18:36:23.272613Z"
    },
    "papermill": {
     "duration": 0.057444,
     "end_time": "2024-09-02T18:36:23.276749",
     "exception": false,
     "start_time": "2024-09-02T18:36:23.219305",
     "status": "completed"
    },
    "tags": []
   },
   "outputs": [
    {
     "name": "stdout",
     "output_type": "stream",
     "text": [
      "Ite, :  0\n",
      "Ite, :  1\n",
      "Ite, :  2\n",
      "Ite, :  3\n",
      "Ite, :  4\n",
      "Ite, :  5\n",
      "Ite, :  6\n",
      "Ite, :  7\n",
      "Ite, :  8\n",
      "Ite, :  9\n",
      "Ite, :  10\n",
      "Ite, :  11\n",
      "Ite, :  12\n",
      "Ite, :  13\n",
      "Ite, :  14\n",
      "Ite, :  15\n",
      "Ite, :  16\n",
      "Ite, :  17\n",
      "Ite, :  18\n",
      "Ite, :  19\n",
      "Ite, :  20\n",
      "Ite, :  21\n",
      "Ite, :  22\n",
      "Ite, :  23\n"
     ]
    }
   ],
   "source": [
    "for i in c.flat :\n",
    "    print(\"Ite, : \", i)"
   ]
  },
  {
   "cell_type": "markdown",
   "id": "4c90df4c",
   "metadata": {
    "papermill": {
     "duration": 0.046719,
     "end_time": "2024-09-02T18:36:23.378801",
     "exception": false,
     "start_time": "2024-09-02T18:36:23.332082",
     "status": "completed"
    },
    "tags": []
   },
   "source": [
    "# Stacking arrays\n",
    "It is often useful to stack together different arrays. NumPy offers several functions to do just that. Let's start by creating a few arrays."
   ]
  },
  {
   "cell_type": "code",
   "execution_count": 104,
   "id": "729dd374",
   "metadata": {
    "execution": {
     "iopub.execute_input": "2024-09-02T18:36:23.475354Z",
     "iopub.status.busy": "2024-09-02T18:36:23.474946Z",
     "iopub.status.idle": "2024-09-02T18:36:23.482395Z",
     "shell.execute_reply": "2024-09-02T18:36:23.481321Z"
    },
    "papermill": {
     "duration": 0.057781,
     "end_time": "2024-09-02T18:36:23.484490",
     "exception": false,
     "start_time": "2024-09-02T18:36:23.426709",
     "status": "completed"
    },
    "tags": []
   },
   "outputs": [
    {
     "data": {
      "text/plain": [
       "array([[1., 1., 1., 1.],\n",
       "       [1., 1., 1., 1.],\n",
       "       [1., 1., 1., 1.]])"
      ]
     },
     "execution_count": 104,
     "metadata": {},
     "output_type": "execute_result"
    }
   ],
   "source": [
    "q1 = np.full((3,4),1.0)\n",
    "q1"
   ]
  },
  {
   "cell_type": "code",
   "execution_count": 105,
   "id": "5c79c50c",
   "metadata": {
    "execution": {
     "iopub.execute_input": "2024-09-02T18:36:23.580533Z",
     "iopub.status.busy": "2024-09-02T18:36:23.579372Z",
     "iopub.status.idle": "2024-09-02T18:36:23.587712Z",
     "shell.execute_reply": "2024-09-02T18:36:23.586575Z"
    },
    "papermill": {
     "duration": 0.058431,
     "end_time": "2024-09-02T18:36:23.589904",
     "exception": false,
     "start_time": "2024-09-02T18:36:23.531473",
     "status": "completed"
    },
    "tags": []
   },
   "outputs": [
    {
     "data": {
      "text/plain": [
       "array([[2., 2., 2., 2.],\n",
       "       [2., 2., 2., 2.],\n",
       "       [2., 2., 2., 2.],\n",
       "       [2., 2., 2., 2.]])"
      ]
     },
     "execution_count": 105,
     "metadata": {},
     "output_type": "execute_result"
    }
   ],
   "source": [
    "q2 = np.full((4,4),2.0)\n",
    "q2"
   ]
  },
  {
   "cell_type": "code",
   "execution_count": 106,
   "id": "6057f170",
   "metadata": {
    "execution": {
     "iopub.execute_input": "2024-09-02T18:36:23.688581Z",
     "iopub.status.busy": "2024-09-02T18:36:23.687570Z",
     "iopub.status.idle": "2024-09-02T18:36:23.695691Z",
     "shell.execute_reply": "2024-09-02T18:36:23.694713Z"
    },
    "papermill": {
     "duration": 0.058912,
     "end_time": "2024-09-02T18:36:23.697907",
     "exception": false,
     "start_time": "2024-09-02T18:36:23.638995",
     "status": "completed"
    },
    "tags": []
   },
   "outputs": [
    {
     "data": {
      "text/plain": [
       "array([[3., 3., 3., 3.],\n",
       "       [3., 3., 3., 3.],\n",
       "       [3., 3., 3., 3.]])"
      ]
     },
     "execution_count": 106,
     "metadata": {},
     "output_type": "execute_result"
    }
   ],
   "source": [
    "q3 = np.full((3,4),3.0)\n",
    "q3"
   ]
  },
  {
   "cell_type": "markdown",
   "id": "3c408b7c",
   "metadata": {
    "papermill": {
     "duration": 0.049383,
     "end_time": "2024-09-02T18:36:23.795005",
     "exception": false,
     "start_time": "2024-09-02T18:36:23.745622",
     "status": "completed"
    },
    "tags": []
   },
   "source": [
    "## `vstack`\n",
    "Now let's stack them vertically using `vstack`:"
   ]
  },
  {
   "cell_type": "code",
   "execution_count": 107,
   "id": "29bae0f2",
   "metadata": {
    "execution": {
     "iopub.execute_input": "2024-09-02T18:36:23.891343Z",
     "iopub.status.busy": "2024-09-02T18:36:23.890952Z",
     "iopub.status.idle": "2024-09-02T18:36:23.898496Z",
     "shell.execute_reply": "2024-09-02T18:36:23.897469Z"
    },
    "papermill": {
     "duration": 0.057742,
     "end_time": "2024-09-02T18:36:23.900544",
     "exception": false,
     "start_time": "2024-09-02T18:36:23.842802",
     "status": "completed"
    },
    "tags": []
   },
   "outputs": [
    {
     "data": {
      "text/plain": [
       "array([[1., 1., 1., 1.],\n",
       "       [1., 1., 1., 1.],\n",
       "       [1., 1., 1., 1.],\n",
       "       [2., 2., 2., 2.],\n",
       "       [2., 2., 2., 2.],\n",
       "       [2., 2., 2., 2.],\n",
       "       [2., 2., 2., 2.],\n",
       "       [3., 3., 3., 3.],\n",
       "       [3., 3., 3., 3.],\n",
       "       [3., 3., 3., 3.]])"
      ]
     },
     "execution_count": 107,
     "metadata": {},
     "output_type": "execute_result"
    }
   ],
   "source": [
    "q4 = np.vstack((q1,q2,q3))\n",
    "q4"
   ]
  },
  {
   "cell_type": "code",
   "execution_count": 108,
   "id": "9fe6858c",
   "metadata": {
    "execution": {
     "iopub.execute_input": "2024-09-02T18:36:23.996668Z",
     "iopub.status.busy": "2024-09-02T18:36:23.996248Z",
     "iopub.status.idle": "2024-09-02T18:36:24.002615Z",
     "shell.execute_reply": "2024-09-02T18:36:24.001588Z"
    },
    "papermill": {
     "duration": 0.056602,
     "end_time": "2024-09-02T18:36:24.004656",
     "exception": false,
     "start_time": "2024-09-02T18:36:23.948054",
     "status": "completed"
    },
    "tags": []
   },
   "outputs": [
    {
     "data": {
      "text/plain": [
       "(10, 4)"
      ]
     },
     "execution_count": 108,
     "metadata": {},
     "output_type": "execute_result"
    }
   ],
   "source": [
    "q4.shape"
   ]
  },
  {
   "cell_type": "markdown",
   "id": "55efac40",
   "metadata": {
    "papermill": {
     "duration": 0.046613,
     "end_time": "2024-09-02T18:36:24.098493",
     "exception": false,
     "start_time": "2024-09-02T18:36:24.051880",
     "status": "completed"
    },
    "tags": []
   },
   "source": [
    "##### "
   ]
  },
  {
   "cell_type": "markdown",
   "id": "7f753f97",
   "metadata": {
    "papermill": {
     "duration": 0.04677,
     "end_time": "2024-09-02T18:36:24.192211",
     "exception": false,
     "start_time": "2024-09-02T18:36:24.145441",
     "status": "completed"
    },
    "tags": []
   },
   "source": [
    "It was possible because q1, q2 and q3 all have the same shape (except for the vertical axis, but that's ok since we are stacking on that axis).\n",
    "\n",
    "## `hstack`\n",
    "We can also stack arrays horizontally using `hstack`:\n"
   ]
  },
  {
   "cell_type": "code",
   "execution_count": 109,
   "id": "6ff7e058",
   "metadata": {
    "execution": {
     "iopub.execute_input": "2024-09-02T18:36:24.288708Z",
     "iopub.status.busy": "2024-09-02T18:36:24.288272Z",
     "iopub.status.idle": "2024-09-02T18:36:24.295734Z",
     "shell.execute_reply": "2024-09-02T18:36:24.294640Z"
    },
    "papermill": {
     "duration": 0.058863,
     "end_time": "2024-09-02T18:36:24.297787",
     "exception": false,
     "start_time": "2024-09-02T18:36:24.238924",
     "status": "completed"
    },
    "tags": []
   },
   "outputs": [
    {
     "data": {
      "text/plain": [
       "array([[1., 1., 1., 1., 3., 3., 3., 3.],\n",
       "       [1., 1., 1., 1., 3., 3., 3., 3.],\n",
       "       [1., 1., 1., 1., 3., 3., 3., 3.]])"
      ]
     },
     "execution_count": 109,
     "metadata": {},
     "output_type": "execute_result"
    }
   ],
   "source": [
    "q5 = np.hstack((q1,q3))\n",
    "q5"
   ]
  },
  {
   "cell_type": "code",
   "execution_count": 110,
   "id": "0a622b1f",
   "metadata": {
    "execution": {
     "iopub.execute_input": "2024-09-02T18:36:24.393490Z",
     "iopub.status.busy": "2024-09-02T18:36:24.393081Z",
     "iopub.status.idle": "2024-09-02T18:36:24.399883Z",
     "shell.execute_reply": "2024-09-02T18:36:24.398894Z"
    },
    "papermill": {
     "duration": 0.056895,
     "end_time": "2024-09-02T18:36:24.401923",
     "exception": false,
     "start_time": "2024-09-02T18:36:24.345028",
     "status": "completed"
    },
    "tags": []
   },
   "outputs": [
    {
     "data": {
      "text/plain": [
       "(3, 8)"
      ]
     },
     "execution_count": 110,
     "metadata": {},
     "output_type": "execute_result"
    }
   ],
   "source": [
    "q5.shape"
   ]
  },
  {
   "cell_type": "code",
   "execution_count": 111,
   "id": "367a1d03",
   "metadata": {
    "execution": {
     "iopub.execute_input": "2024-09-02T18:36:24.500121Z",
     "iopub.status.busy": "2024-09-02T18:36:24.498952Z",
     "iopub.status.idle": "2024-09-02T18:36:24.505182Z",
     "shell.execute_reply": "2024-09-02T18:36:24.504227Z"
    },
    "papermill": {
     "duration": 0.056878,
     "end_time": "2024-09-02T18:36:24.507344",
     "exception": false,
     "start_time": "2024-09-02T18:36:24.450466",
     "status": "completed"
    },
    "tags": []
   },
   "outputs": [
    {
     "name": "stdout",
     "output_type": "stream",
     "text": [
      "all the input array dimensions except for the concatenation axis must match exactly, but along dimension 0, the array at index 0 has size 3 and the array at index 1 has size 4\n"
     ]
    }
   ],
   "source": [
    "try :\n",
    "    q5 = np.hstack((q1,q2,q3))\n",
    "except ValueError as e:\n",
    "    print(e)"
   ]
  },
  {
   "cell_type": "markdown",
   "id": "4e1f32c1",
   "metadata": {
    "papermill": {
     "duration": 0.048954,
     "end_time": "2024-09-02T18:36:24.607486",
     "exception": false,
     "start_time": "2024-09-02T18:36:24.558532",
     "status": "completed"
    },
    "tags": []
   },
   "source": [
    "## `concatenate`\n",
    "The `concatenate` function stacks arrays along any given existing axis."
   ]
  },
  {
   "cell_type": "code",
   "execution_count": 112,
   "id": "106ef032",
   "metadata": {
    "execution": {
     "iopub.execute_input": "2024-09-02T18:36:24.704572Z",
     "iopub.status.busy": "2024-09-02T18:36:24.704098Z",
     "iopub.status.idle": "2024-09-02T18:36:24.711621Z",
     "shell.execute_reply": "2024-09-02T18:36:24.710723Z"
    },
    "papermill": {
     "duration": 0.058149,
     "end_time": "2024-09-02T18:36:24.713685",
     "exception": false,
     "start_time": "2024-09-02T18:36:24.655536",
     "status": "completed"
    },
    "tags": []
   },
   "outputs": [
    {
     "data": {
      "text/plain": [
       "array([[1., 1., 1., 1.],\n",
       "       [1., 1., 1., 1.],\n",
       "       [1., 1., 1., 1.],\n",
       "       [2., 2., 2., 2.],\n",
       "       [2., 2., 2., 2.],\n",
       "       [2., 2., 2., 2.],\n",
       "       [2., 2., 2., 2.],\n",
       "       [3., 3., 3., 3.],\n",
       "       [3., 3., 3., 3.],\n",
       "       [3., 3., 3., 3.]])"
      ]
     },
     "execution_count": 112,
     "metadata": {},
     "output_type": "execute_result"
    }
   ],
   "source": [
    "q7 = np.concatenate((q1,q2,q3),axis=0)\n",
    "q7\n"
   ]
  },
  {
   "cell_type": "code",
   "execution_count": 113,
   "id": "18530ba6",
   "metadata": {
    "execution": {
     "iopub.execute_input": "2024-09-02T18:36:24.812582Z",
     "iopub.status.busy": "2024-09-02T18:36:24.812173Z",
     "iopub.status.idle": "2024-09-02T18:36:24.818507Z",
     "shell.execute_reply": "2024-09-02T18:36:24.817548Z"
    },
    "papermill": {
     "duration": 0.05817,
     "end_time": "2024-09-02T18:36:24.820641",
     "exception": false,
     "start_time": "2024-09-02T18:36:24.762471",
     "status": "completed"
    },
    "tags": []
   },
   "outputs": [
    {
     "data": {
      "text/plain": [
       "(10, 4)"
      ]
     },
     "execution_count": 113,
     "metadata": {},
     "output_type": "execute_result"
    }
   ],
   "source": [
    "q7.shape"
   ]
  },
  {
   "cell_type": "markdown",
   "id": "0f3a7c77",
   "metadata": {
    "papermill": {
     "duration": 0.047701,
     "end_time": "2024-09-02T18:36:24.915683",
     "exception": false,
     "start_time": "2024-09-02T18:36:24.867982",
     "status": "completed"
    },
    "tags": []
   },
   "source": [
    "## `stack`\n",
    "The `stack` function stacks arrays along a new axis. All arrays have to have the same shape."
   ]
  },
  {
   "cell_type": "code",
   "execution_count": 114,
   "id": "af0624e8",
   "metadata": {
    "execution": {
     "iopub.execute_input": "2024-09-02T18:36:25.012313Z",
     "iopub.status.busy": "2024-09-02T18:36:25.011921Z",
     "iopub.status.idle": "2024-09-02T18:36:25.019250Z",
     "shell.execute_reply": "2024-09-02T18:36:25.018152Z"
    },
    "papermill": {
     "duration": 0.05804,
     "end_time": "2024-09-02T18:36:25.021371",
     "exception": false,
     "start_time": "2024-09-02T18:36:24.963331",
     "status": "completed"
    },
    "tags": []
   },
   "outputs": [
    {
     "data": {
      "text/plain": [
       "array([[[1., 1., 1., 1.],\n",
       "        [1., 1., 1., 1.],\n",
       "        [1., 1., 1., 1.]],\n",
       "\n",
       "       [[3., 3., 3., 3.],\n",
       "        [3., 3., 3., 3.],\n",
       "        [3., 3., 3., 3.]]])"
      ]
     },
     "execution_count": 114,
     "metadata": {},
     "output_type": "execute_result"
    }
   ],
   "source": [
    "q8 = np.stack((q1,q3))\n",
    "q8"
   ]
  },
  {
   "cell_type": "markdown",
   "id": "805a2742",
   "metadata": {
    "papermill": {
     "duration": 0.04724,
     "end_time": "2024-09-02T18:36:25.115767",
     "exception": false,
     "start_time": "2024-09-02T18:36:25.068527",
     "status": "completed"
    },
    "tags": []
   },
   "source": [
    "# Splitting arrays\n",
    "Splitting is the opposite of stacking. For example, let's use the `vsplit` function to split a matrix vertically.\n",
    "\n",
    "First let's create a 6x4 matrix:"
   ]
  },
  {
   "cell_type": "code",
   "execution_count": 115,
   "id": "ad2e0908",
   "metadata": {
    "execution": {
     "iopub.execute_input": "2024-09-02T18:36:25.212264Z",
     "iopub.status.busy": "2024-09-02T18:36:25.211843Z",
     "iopub.status.idle": "2024-09-02T18:36:25.218918Z",
     "shell.execute_reply": "2024-09-02T18:36:25.217847Z"
    },
    "papermill": {
     "duration": 0.057856,
     "end_time": "2024-09-02T18:36:25.221076",
     "exception": false,
     "start_time": "2024-09-02T18:36:25.163220",
     "status": "completed"
    },
    "tags": []
   },
   "outputs": [
    {
     "data": {
      "text/plain": [
       "array([[ 0,  1,  2,  3],\n",
       "       [ 4,  5,  6,  7],\n",
       "       [ 8,  9, 10, 11],\n",
       "       [12, 13, 14, 15],\n",
       "       [16, 17, 18, 19],\n",
       "       [20, 21, 22, 23]])"
      ]
     },
     "execution_count": 115,
     "metadata": {},
     "output_type": "execute_result"
    }
   ],
   "source": [
    "r = np.arange(24).reshape(6,4)\n",
    "r"
   ]
  },
  {
   "cell_type": "code",
   "execution_count": 116,
   "id": "61594ab5",
   "metadata": {
    "execution": {
     "iopub.execute_input": "2024-09-02T18:36:25.318598Z",
     "iopub.status.busy": "2024-09-02T18:36:25.317790Z",
     "iopub.status.idle": "2024-09-02T18:36:25.324750Z",
     "shell.execute_reply": "2024-09-02T18:36:25.323752Z"
    },
    "papermill": {
     "duration": 0.057665,
     "end_time": "2024-09-02T18:36:25.326806",
     "exception": false,
     "start_time": "2024-09-02T18:36:25.269141",
     "status": "completed"
    },
    "tags": []
   },
   "outputs": [
    {
     "data": {
      "text/plain": [
       "array([[0, 1, 2, 3],\n",
       "       [4, 5, 6, 7]])"
      ]
     },
     "execution_count": 116,
     "metadata": {},
     "output_type": "execute_result"
    }
   ],
   "source": [
    "r1,r2,r3 = np.vsplit(r, 3)\n",
    "r1"
   ]
  },
  {
   "cell_type": "code",
   "execution_count": 117,
   "id": "efb0f63e",
   "metadata": {
    "execution": {
     "iopub.execute_input": "2024-09-02T18:36:25.423546Z",
     "iopub.status.busy": "2024-09-02T18:36:25.423095Z",
     "iopub.status.idle": "2024-09-02T18:36:25.429747Z",
     "shell.execute_reply": "2024-09-02T18:36:25.428795Z"
    },
    "papermill": {
     "duration": 0.057671,
     "end_time": "2024-09-02T18:36:25.431797",
     "exception": false,
     "start_time": "2024-09-02T18:36:25.374126",
     "status": "completed"
    },
    "tags": []
   },
   "outputs": [
    {
     "data": {
      "text/plain": [
       "array([[ 8,  9, 10, 11],\n",
       "       [12, 13, 14, 15]])"
      ]
     },
     "execution_count": 117,
     "metadata": {},
     "output_type": "execute_result"
    }
   ],
   "source": [
    "r2"
   ]
  },
  {
   "cell_type": "code",
   "execution_count": 118,
   "id": "9f902285",
   "metadata": {
    "execution": {
     "iopub.execute_input": "2024-09-02T18:36:25.528749Z",
     "iopub.status.busy": "2024-09-02T18:36:25.528299Z",
     "iopub.status.idle": "2024-09-02T18:36:25.535010Z",
     "shell.execute_reply": "2024-09-02T18:36:25.533891Z"
    },
    "papermill": {
     "duration": 0.057511,
     "end_time": "2024-09-02T18:36:25.537050",
     "exception": false,
     "start_time": "2024-09-02T18:36:25.479539",
     "status": "completed"
    },
    "tags": []
   },
   "outputs": [
    {
     "data": {
      "text/plain": [
       "array([[16, 17, 18, 19],\n",
       "       [20, 21, 22, 23]])"
      ]
     },
     "execution_count": 118,
     "metadata": {},
     "output_type": "execute_result"
    }
   ],
   "source": [
    "r3"
   ]
  },
  {
   "cell_type": "markdown",
   "id": "ed11f8c9",
   "metadata": {
    "papermill": {
     "duration": 0.048969,
     "end_time": "2024-09-02T18:36:25.633709",
     "exception": false,
     "start_time": "2024-09-02T18:36:25.584740",
     "status": "completed"
    },
    "tags": []
   },
   "source": [
    "There is also a `split` function which splits an array along any given axis. Calling `vsplit` is equivalent to calling `split` with `axis=0`. There is also an `hsplit` function, equivalent to calling `split` with `axis=1`:"
   ]
  },
  {
   "cell_type": "code",
   "execution_count": 119,
   "id": "183f552f",
   "metadata": {
    "execution": {
     "iopub.execute_input": "2024-09-02T18:36:25.730847Z",
     "iopub.status.busy": "2024-09-02T18:36:25.730206Z",
     "iopub.status.idle": "2024-09-02T18:36:25.736911Z",
     "shell.execute_reply": "2024-09-02T18:36:25.735969Z"
    },
    "papermill": {
     "duration": 0.057866,
     "end_time": "2024-09-02T18:36:25.738958",
     "exception": false,
     "start_time": "2024-09-02T18:36:25.681092",
     "status": "completed"
    },
    "tags": []
   },
   "outputs": [
    {
     "data": {
      "text/plain": [
       "array([[ 0,  1],\n",
       "       [ 4,  5],\n",
       "       [ 8,  9],\n",
       "       [12, 13],\n",
       "       [16, 17],\n",
       "       [20, 21]])"
      ]
     },
     "execution_count": 119,
     "metadata": {},
     "output_type": "execute_result"
    }
   ],
   "source": [
    "r4, r5 = np.hsplit(r,2)\n",
    "r4"
   ]
  },
  {
   "cell_type": "code",
   "execution_count": 120,
   "id": "3566f94f",
   "metadata": {
    "execution": {
     "iopub.execute_input": "2024-09-02T18:36:25.837316Z",
     "iopub.status.busy": "2024-09-02T18:36:25.836249Z",
     "iopub.status.idle": "2024-09-02T18:36:25.843177Z",
     "shell.execute_reply": "2024-09-02T18:36:25.842218Z"
    },
    "papermill": {
     "duration": 0.058166,
     "end_time": "2024-09-02T18:36:25.845314",
     "exception": false,
     "start_time": "2024-09-02T18:36:25.787148",
     "status": "completed"
    },
    "tags": []
   },
   "outputs": [
    {
     "data": {
      "text/plain": [
       "array([[ 2,  3],\n",
       "       [ 6,  7],\n",
       "       [10, 11],\n",
       "       [14, 15],\n",
       "       [18, 19],\n",
       "       [22, 23]])"
      ]
     },
     "execution_count": 120,
     "metadata": {},
     "output_type": "execute_result"
    }
   ],
   "source": [
    "r5"
   ]
  },
  {
   "cell_type": "markdown",
   "id": "1336ec40",
   "metadata": {
    "papermill": {
     "duration": 0.048283,
     "end_time": "2024-09-02T18:36:25.941580",
     "exception": false,
     "start_time": "2024-09-02T18:36:25.893297",
     "status": "completed"
    },
    "tags": []
   },
   "source": [
    "# Transposing arrays\n",
    "The `transpose` method creates a new view on an `ndarray`'s data, with axes permuted in the given order.\n",
    "\n",
    "For example, let's create a 3D array:"
   ]
  },
  {
   "cell_type": "code",
   "execution_count": 121,
   "id": "18e1dbd6",
   "metadata": {
    "execution": {
     "iopub.execute_input": "2024-09-02T18:36:26.040233Z",
     "iopub.status.busy": "2024-09-02T18:36:26.039856Z",
     "iopub.status.idle": "2024-09-02T18:36:26.047122Z",
     "shell.execute_reply": "2024-09-02T18:36:26.046093Z"
    },
    "papermill": {
     "duration": 0.059244,
     "end_time": "2024-09-02T18:36:26.049319",
     "exception": false,
     "start_time": "2024-09-02T18:36:25.990075",
     "status": "completed"
    },
    "tags": []
   },
   "outputs": [
    {
     "data": {
      "text/plain": [
       "array([[[ 0,  1,  2],\n",
       "        [ 3,  4,  5]],\n",
       "\n",
       "       [[ 6,  7,  8],\n",
       "        [ 9, 10, 11]],\n",
       "\n",
       "       [[12, 13, 14],\n",
       "        [15, 16, 17]],\n",
       "\n",
       "       [[18, 19, 20],\n",
       "        [21, 22, 23]]])"
      ]
     },
     "execution_count": 121,
     "metadata": {},
     "output_type": "execute_result"
    }
   ],
   "source": [
    "t = np.arange(24).reshape(4,2,3)\n",
    "t"
   ]
  },
  {
   "cell_type": "markdown",
   "id": "c80f02c5",
   "metadata": {
    "papermill": {
     "duration": 0.048401,
     "end_time": "2024-09-02T18:36:26.145742",
     "exception": false,
     "start_time": "2024-09-02T18:36:26.097341",
     "status": "completed"
    },
    "tags": []
   },
   "source": [
    "Now let's create an `ndarray` such that the axes `0, 1, 2` (depth, height, width) are re-ordered to `1, 2, 0` (depth→width, height→depth, width→height):"
   ]
  },
  {
   "cell_type": "code",
   "execution_count": 122,
   "id": "e246efae",
   "metadata": {
    "execution": {
     "iopub.execute_input": "2024-09-02T18:36:26.244172Z",
     "iopub.status.busy": "2024-09-02T18:36:26.243337Z",
     "iopub.status.idle": "2024-09-02T18:36:26.250514Z",
     "shell.execute_reply": "2024-09-02T18:36:26.249502Z"
    },
    "papermill": {
     "duration": 0.058582,
     "end_time": "2024-09-02T18:36:26.252523",
     "exception": false,
     "start_time": "2024-09-02T18:36:26.193941",
     "status": "completed"
    },
    "tags": []
   },
   "outputs": [
    {
     "data": {
      "text/plain": [
       "array([[[ 0,  6, 12, 18],\n",
       "        [ 1,  7, 13, 19],\n",
       "        [ 2,  8, 14, 20]],\n",
       "\n",
       "       [[ 3,  9, 15, 21],\n",
       "        [ 4, 10, 16, 22],\n",
       "        [ 5, 11, 17, 23]]])"
      ]
     },
     "execution_count": 122,
     "metadata": {},
     "output_type": "execute_result"
    }
   ],
   "source": [
    "t1 = t.transpose((1,2,0))\n",
    "t1"
   ]
  },
  {
   "cell_type": "code",
   "execution_count": 123,
   "id": "80cd1ba7",
   "metadata": {
    "execution": {
     "iopub.execute_input": "2024-09-02T18:36:26.352871Z",
     "iopub.status.busy": "2024-09-02T18:36:26.352017Z",
     "iopub.status.idle": "2024-09-02T18:36:26.358997Z",
     "shell.execute_reply": "2024-09-02T18:36:26.357892Z"
    },
    "papermill": {
     "duration": 0.059339,
     "end_time": "2024-09-02T18:36:26.361136",
     "exception": false,
     "start_time": "2024-09-02T18:36:26.301797",
     "status": "completed"
    },
    "tags": []
   },
   "outputs": [
    {
     "data": {
      "text/plain": [
       "(2, 3, 4)"
      ]
     },
     "execution_count": 123,
     "metadata": {},
     "output_type": "execute_result"
    }
   ],
   "source": [
    "t1.shape"
   ]
  },
  {
   "cell_type": "code",
   "execution_count": 124,
   "id": "f0cc20cf",
   "metadata": {
    "execution": {
     "iopub.execute_input": "2024-09-02T18:36:26.462959Z",
     "iopub.status.busy": "2024-09-02T18:36:26.462511Z",
     "iopub.status.idle": "2024-09-02T18:36:26.469521Z",
     "shell.execute_reply": "2024-09-02T18:36:26.468492Z"
    },
    "papermill": {
     "duration": 0.060538,
     "end_time": "2024-09-02T18:36:26.471667",
     "exception": false,
     "start_time": "2024-09-02T18:36:26.411129",
     "status": "completed"
    },
    "tags": []
   },
   "outputs": [
    {
     "data": {
      "text/plain": [
       "<function ndarray.transpose>"
      ]
     },
     "execution_count": 124,
     "metadata": {},
     "output_type": "execute_result"
    }
   ],
   "source": [
    "t2 = t.transpose\n",
    "t2"
   ]
  },
  {
   "cell_type": "code",
   "execution_count": 125,
   "id": "33b3371b",
   "metadata": {
    "execution": {
     "iopub.execute_input": "2024-09-02T18:36:26.574429Z",
     "iopub.status.busy": "2024-09-02T18:36:26.574035Z",
     "iopub.status.idle": "2024-09-02T18:36:26.581879Z",
     "shell.execute_reply": "2024-09-02T18:36:26.580814Z"
    },
    "papermill": {
     "duration": 0.063432,
     "end_time": "2024-09-02T18:36:26.584127",
     "exception": false,
     "start_time": "2024-09-02T18:36:26.520695",
     "status": "completed"
    },
    "tags": []
   },
   "outputs": [
    {
     "data": {
      "text/plain": [
       "array([[[ 0,  1,  2],\n",
       "        [ 6,  7,  8],\n",
       "        [12, 13, 14],\n",
       "        [18, 19, 20]],\n",
       "\n",
       "       [[ 3,  4,  5],\n",
       "        [ 9, 10, 11],\n",
       "        [15, 16, 17],\n",
       "        [21, 22, 23]]])"
      ]
     },
     "execution_count": 125,
     "metadata": {},
     "output_type": "execute_result"
    }
   ],
   "source": [
    "t3 = t.swapaxes(0,1)\n",
    "t3"
   ]
  },
  {
   "cell_type": "code",
   "execution_count": 126,
   "id": "c73cf1fc",
   "metadata": {
    "execution": {
     "iopub.execute_input": "2024-09-02T18:36:26.704176Z",
     "iopub.status.busy": "2024-09-02T18:36:26.703794Z",
     "iopub.status.idle": "2024-09-02T18:36:26.710151Z",
     "shell.execute_reply": "2024-09-02T18:36:26.709172Z"
    },
    "papermill": {
     "duration": 0.071151,
     "end_time": "2024-09-02T18:36:26.712164",
     "exception": false,
     "start_time": "2024-09-02T18:36:26.641013",
     "status": "completed"
    },
    "tags": []
   },
   "outputs": [
    {
     "data": {
      "text/plain": [
       "(2, 4, 3)"
      ]
     },
     "execution_count": 126,
     "metadata": {},
     "output_type": "execute_result"
    }
   ],
   "source": [
    "t3.shape"
   ]
  },
  {
   "cell_type": "markdown",
   "id": "fba1a3fa",
   "metadata": {
    "papermill": {
     "duration": 0.049065,
     "end_time": "2024-09-02T18:36:26.810356",
     "exception": false,
     "start_time": "2024-09-02T18:36:26.761291",
     "status": "completed"
    },
    "tags": []
   },
   "source": [
    "# Linear algebra\n",
    "NumPy 2D arrays can be used to represent matrices efficiently in python. We will just quickly go through some of the main matrix operations available. For more details about Linear Algebra, vectors and matrices, go through the [Linear Algebra tutorial](math_linear_algebra.ipynb).\n",
    "\n",
    "## Matrix transpose\n",
    "The `T` attribute is equivalent to calling `transpose()` when the rank is ≥2:"
   ]
  },
  {
   "cell_type": "code",
   "execution_count": 127,
   "id": "3fc72622",
   "metadata": {
    "execution": {
     "iopub.execute_input": "2024-09-02T18:36:26.909418Z",
     "iopub.status.busy": "2024-09-02T18:36:26.908989Z",
     "iopub.status.idle": "2024-09-02T18:36:26.916029Z",
     "shell.execute_reply": "2024-09-02T18:36:26.915109Z"
    },
    "papermill": {
     "duration": 0.058901,
     "end_time": "2024-09-02T18:36:26.918000",
     "exception": false,
     "start_time": "2024-09-02T18:36:26.859099",
     "status": "completed"
    },
    "tags": []
   },
   "outputs": [
    {
     "data": {
      "text/plain": [
       "array([[0, 1, 2, 3, 4],\n",
       "       [5, 6, 7, 8, 9]])"
      ]
     },
     "execution_count": 127,
     "metadata": {},
     "output_type": "execute_result"
    }
   ],
   "source": [
    "m1 = np.arange(10).reshape(2,5)\n",
    "m1"
   ]
  },
  {
   "cell_type": "code",
   "execution_count": 128,
   "id": "7d06994b",
   "metadata": {
    "execution": {
     "iopub.execute_input": "2024-09-02T18:36:27.020396Z",
     "iopub.status.busy": "2024-09-02T18:36:27.020003Z",
     "iopub.status.idle": "2024-09-02T18:36:27.026601Z",
     "shell.execute_reply": "2024-09-02T18:36:27.025627Z"
    },
    "papermill": {
     "duration": 0.061127,
     "end_time": "2024-09-02T18:36:27.028587",
     "exception": false,
     "start_time": "2024-09-02T18:36:26.967460",
     "status": "completed"
    },
    "tags": []
   },
   "outputs": [
    {
     "data": {
      "text/plain": [
       "array([[0, 5],\n",
       "       [1, 6],\n",
       "       [2, 7],\n",
       "       [3, 8],\n",
       "       [4, 9]])"
      ]
     },
     "execution_count": 128,
     "metadata": {},
     "output_type": "execute_result"
    }
   ],
   "source": [
    "m1.T"
   ]
  },
  {
   "cell_type": "code",
   "execution_count": 129,
   "id": "8af1074b",
   "metadata": {
    "execution": {
     "iopub.execute_input": "2024-09-02T18:36:27.128681Z",
     "iopub.status.busy": "2024-09-02T18:36:27.128230Z",
     "iopub.status.idle": "2024-09-02T18:36:27.134576Z",
     "shell.execute_reply": "2024-09-02T18:36:27.133616Z"
    },
    "papermill": {
     "duration": 0.058558,
     "end_time": "2024-09-02T18:36:27.136694",
     "exception": false,
     "start_time": "2024-09-02T18:36:27.078136",
     "status": "completed"
    },
    "tags": []
   },
   "outputs": [
    {
     "data": {
      "text/plain": [
       "array([0, 1, 2, 3, 4])"
      ]
     },
     "execution_count": 129,
     "metadata": {},
     "output_type": "execute_result"
    }
   ],
   "source": [
    "m2 = np.arange(5)\n",
    "m2"
   ]
  },
  {
   "cell_type": "code",
   "execution_count": 130,
   "id": "eedd5b3d",
   "metadata": {
    "execution": {
     "iopub.execute_input": "2024-09-02T18:36:27.237181Z",
     "iopub.status.busy": "2024-09-02T18:36:27.236770Z",
     "iopub.status.idle": "2024-09-02T18:36:27.243388Z",
     "shell.execute_reply": "2024-09-02T18:36:27.242334Z"
    },
    "papermill": {
     "duration": 0.059592,
     "end_time": "2024-09-02T18:36:27.245573",
     "exception": false,
     "start_time": "2024-09-02T18:36:27.185981",
     "status": "completed"
    },
    "tags": []
   },
   "outputs": [
    {
     "data": {
      "text/plain": [
       "array([0, 1, 2, 3, 4])"
      ]
     },
     "execution_count": 130,
     "metadata": {},
     "output_type": "execute_result"
    }
   ],
   "source": [
    "m2.T"
   ]
  },
  {
   "cell_type": "code",
   "execution_count": 131,
   "id": "558dcfe2",
   "metadata": {
    "execution": {
     "iopub.execute_input": "2024-09-02T18:36:27.346284Z",
     "iopub.status.busy": "2024-09-02T18:36:27.345867Z",
     "iopub.status.idle": "2024-09-02T18:36:27.352412Z",
     "shell.execute_reply": "2024-09-02T18:36:27.351431Z"
    },
    "papermill": {
     "duration": 0.0594,
     "end_time": "2024-09-02T18:36:27.354537",
     "exception": false,
     "start_time": "2024-09-02T18:36:27.295137",
     "status": "completed"
    },
    "tags": []
   },
   "outputs": [
    {
     "data": {
      "text/plain": [
       "array([[0, 1, 2, 3, 4]])"
      ]
     },
     "execution_count": 131,
     "metadata": {},
     "output_type": "execute_result"
    }
   ],
   "source": [
    "m2r = m2.reshape(1,5)\n",
    "m2r"
   ]
  },
  {
   "cell_type": "code",
   "execution_count": 132,
   "id": "b87be29c",
   "metadata": {
    "execution": {
     "iopub.execute_input": "2024-09-02T18:36:27.456806Z",
     "iopub.status.busy": "2024-09-02T18:36:27.456371Z",
     "iopub.status.idle": "2024-09-02T18:36:27.463528Z",
     "shell.execute_reply": "2024-09-02T18:36:27.462478Z"
    },
    "papermill": {
     "duration": 0.061434,
     "end_time": "2024-09-02T18:36:27.465837",
     "exception": false,
     "start_time": "2024-09-02T18:36:27.404403",
     "status": "completed"
    },
    "tags": []
   },
   "outputs": [
    {
     "data": {
      "text/plain": [
       "array([[0],\n",
       "       [1],\n",
       "       [2],\n",
       "       [3],\n",
       "       [4]])"
      ]
     },
     "execution_count": 132,
     "metadata": {},
     "output_type": "execute_result"
    }
   ],
   "source": [
    "m2r.T"
   ]
  },
  {
   "cell_type": "markdown",
   "id": "de6826d8",
   "metadata": {
    "papermill": {
     "duration": 0.050759,
     "end_time": "2024-09-02T18:36:27.567989",
     "exception": false,
     "start_time": "2024-09-02T18:36:27.517230",
     "status": "completed"
    },
    "tags": []
   },
   "source": [
    "## Matrix multiplication\n",
    "Let's create two matrices and execute a [matrix multiplication](https://en.wikipedia.org/wiki/Matrix_multiplication) using the `dot()` method."
   ]
  },
  {
   "cell_type": "code",
   "execution_count": 133,
   "id": "87f9b9e7",
   "metadata": {
    "execution": {
     "iopub.execute_input": "2024-09-02T18:36:27.671368Z",
     "iopub.status.busy": "2024-09-02T18:36:27.670445Z",
     "iopub.status.idle": "2024-09-02T18:36:27.677313Z",
     "shell.execute_reply": "2024-09-02T18:36:27.676339Z"
    },
    "papermill": {
     "duration": 0.060636,
     "end_time": "2024-09-02T18:36:27.679281",
     "exception": false,
     "start_time": "2024-09-02T18:36:27.618645",
     "status": "completed"
    },
    "tags": []
   },
   "outputs": [
    {
     "data": {
      "text/plain": [
       "array([[0, 1, 2, 3, 4],\n",
       "       [5, 6, 7, 8, 9]])"
      ]
     },
     "execution_count": 133,
     "metadata": {},
     "output_type": "execute_result"
    }
   ],
   "source": [
    "n1 = np.arange(10).reshape(2,5)\n",
    "n1"
   ]
  },
  {
   "cell_type": "code",
   "execution_count": 134,
   "id": "357e6ed5",
   "metadata": {
    "execution": {
     "iopub.execute_input": "2024-09-02T18:36:27.781655Z",
     "iopub.status.busy": "2024-09-02T18:36:27.781235Z",
     "iopub.status.idle": "2024-09-02T18:36:27.788444Z",
     "shell.execute_reply": "2024-09-02T18:36:27.787364Z"
    },
    "papermill": {
     "duration": 0.060553,
     "end_time": "2024-09-02T18:36:27.790500",
     "exception": false,
     "start_time": "2024-09-02T18:36:27.729947",
     "status": "completed"
    },
    "tags": []
   },
   "outputs": [
    {
     "data": {
      "text/plain": [
       "array([[ 0,  1,  2],\n",
       "       [ 3,  4,  5],\n",
       "       [ 6,  7,  8],\n",
       "       [ 9, 10, 11],\n",
       "       [12, 13, 14]])"
      ]
     },
     "execution_count": 134,
     "metadata": {},
     "output_type": "execute_result"
    }
   ],
   "source": [
    "n2 = np.arange(15).reshape(5,3)\n",
    "n2"
   ]
  },
  {
   "cell_type": "code",
   "execution_count": 135,
   "id": "8b9285b1",
   "metadata": {
    "execution": {
     "iopub.execute_input": "2024-09-02T18:36:27.946412Z",
     "iopub.status.busy": "2024-09-02T18:36:27.945609Z",
     "iopub.status.idle": "2024-09-02T18:36:27.952340Z",
     "shell.execute_reply": "2024-09-02T18:36:27.951356Z"
    },
    "papermill": {
     "duration": 0.11374,
     "end_time": "2024-09-02T18:36:27.954532",
     "exception": false,
     "start_time": "2024-09-02T18:36:27.840792",
     "status": "completed"
    },
    "tags": []
   },
   "outputs": [
    {
     "data": {
      "text/plain": [
       "array([[ 90, 100, 110],\n",
       "       [240, 275, 310]])"
      ]
     },
     "execution_count": 135,
     "metadata": {},
     "output_type": "execute_result"
    }
   ],
   "source": [
    "n1.dot(n2)"
   ]
  },
  {
   "cell_type": "markdown",
   "id": "f96d09ba",
   "metadata": {
    "papermill": {
     "duration": 0.050006,
     "end_time": "2024-09-02T18:36:28.054849",
     "exception": false,
     "start_time": "2024-09-02T18:36:28.004843",
     "status": "completed"
    },
    "tags": []
   },
   "source": [
    "## Matrix inverse and pseudo-inverse\n",
    "Many of the linear algebra functions are available in the `numpy.linalg` module, in particular the `inv` function to compute a square matrix's inverse:"
   ]
  },
  {
   "cell_type": "code",
   "execution_count": 136,
   "id": "6ee4b73e",
   "metadata": {
    "execution": {
     "iopub.execute_input": "2024-09-02T18:36:28.156505Z",
     "iopub.status.busy": "2024-09-02T18:36:28.156099Z",
     "iopub.status.idle": "2024-09-02T18:36:28.163317Z",
     "shell.execute_reply": "2024-09-02T18:36:28.162366Z"
    },
    "papermill": {
     "duration": 0.060625,
     "end_time": "2024-09-02T18:36:28.165386",
     "exception": false,
     "start_time": "2024-09-02T18:36:28.104761",
     "status": "completed"
    },
    "tags": []
   },
   "outputs": [
    {
     "data": {
      "text/plain": [
       "array([[ 1,  2,  3],\n",
       "       [ 5,  7, 11],\n",
       "       [21, 29, 31]])"
      ]
     },
     "execution_count": 136,
     "metadata": {},
     "output_type": "execute_result"
    }
   ],
   "source": [
    "import numpy.linalg as linalg\n",
    "\n",
    "m3 = np.array([[1,2,3],[5,7,11], [21,29,31]])\n",
    "m3"
   ]
  },
  {
   "cell_type": "code",
   "execution_count": 137,
   "id": "851c8f0e",
   "metadata": {
    "execution": {
     "iopub.execute_input": "2024-09-02T18:36:28.267308Z",
     "iopub.status.busy": "2024-09-02T18:36:28.266902Z",
     "iopub.status.idle": "2024-09-02T18:36:28.274104Z",
     "shell.execute_reply": "2024-09-02T18:36:28.273071Z"
    },
    "papermill": {
     "duration": 0.060559,
     "end_time": "2024-09-02T18:36:28.276249",
     "exception": false,
     "start_time": "2024-09-02T18:36:28.215690",
     "status": "completed"
    },
    "tags": []
   },
   "outputs": [
    {
     "data": {
      "text/plain": [
       "array([[-2.31818182,  0.56818182,  0.02272727],\n",
       "       [ 1.72727273, -0.72727273,  0.09090909],\n",
       "       [-0.04545455,  0.29545455, -0.06818182]])"
      ]
     },
     "execution_count": 137,
     "metadata": {},
     "output_type": "execute_result"
    }
   ],
   "source": [
    "linalg.inv(m3)"
   ]
  },
  {
   "cell_type": "code",
   "execution_count": 138,
   "id": "5bbc8d0d",
   "metadata": {
    "execution": {
     "iopub.execute_input": "2024-09-02T18:36:28.382646Z",
     "iopub.status.busy": "2024-09-02T18:36:28.382221Z",
     "iopub.status.idle": "2024-09-02T18:36:28.398862Z",
     "shell.execute_reply": "2024-09-02T18:36:28.397869Z"
    },
    "papermill": {
     "duration": 0.072332,
     "end_time": "2024-09-02T18:36:28.400856",
     "exception": false,
     "start_time": "2024-09-02T18:36:28.328524",
     "status": "completed"
    },
    "tags": []
   },
   "outputs": [
    {
     "data": {
      "text/plain": [
       "array([[-2.31818182,  0.56818182,  0.02272727],\n",
       "       [ 1.72727273, -0.72727273,  0.09090909],\n",
       "       [-0.04545455,  0.29545455, -0.06818182]])"
      ]
     },
     "execution_count": 138,
     "metadata": {},
     "output_type": "execute_result"
    }
   ],
   "source": [
    "linalg.pinv(m3)"
   ]
  },
  {
   "cell_type": "markdown",
   "id": "63542f64",
   "metadata": {
    "papermill": {
     "duration": 0.052303,
     "end_time": "2024-09-02T18:36:28.503461",
     "exception": false,
     "start_time": "2024-09-02T18:36:28.451158",
     "status": "completed"
    },
    "tags": []
   },
   "source": [
    "## Identity matrix\n",
    "The product of a matrix by its inverse returns the identity matrix (with small floating point errors):"
   ]
  },
  {
   "cell_type": "code",
   "execution_count": 139,
   "id": "1f9754ec",
   "metadata": {
    "execution": {
     "iopub.execute_input": "2024-09-02T18:36:28.608154Z",
     "iopub.status.busy": "2024-09-02T18:36:28.607762Z",
     "iopub.status.idle": "2024-09-02T18:36:28.616045Z",
     "shell.execute_reply": "2024-09-02T18:36:28.614686Z"
    },
    "papermill": {
     "duration": 0.065408,
     "end_time": "2024-09-02T18:36:28.620276",
     "exception": false,
     "start_time": "2024-09-02T18:36:28.554868",
     "status": "completed"
    },
    "tags": []
   },
   "outputs": [
    {
     "data": {
      "text/plain": [
       "array([[ 1.00000000e+00, -1.66533454e-16,  0.00000000e+00],\n",
       "       [ 6.31439345e-16,  1.00000000e+00, -1.38777878e-16],\n",
       "       [ 5.21110932e-15, -2.38697950e-15,  1.00000000e+00]])"
      ]
     },
     "execution_count": 139,
     "metadata": {},
     "output_type": "execute_result"
    }
   ],
   "source": [
    "m3.dot(linalg.inv(m3))"
   ]
  },
  {
   "cell_type": "code",
   "execution_count": 140,
   "id": "f114a9d0",
   "metadata": {
    "execution": {
     "iopub.execute_input": "2024-09-02T18:36:28.766187Z",
     "iopub.status.busy": "2024-09-02T18:36:28.765810Z",
     "iopub.status.idle": "2024-09-02T18:36:28.772796Z",
     "shell.execute_reply": "2024-09-02T18:36:28.771637Z"
    },
    "papermill": {
     "duration": 0.071098,
     "end_time": "2024-09-02T18:36:28.774942",
     "exception": false,
     "start_time": "2024-09-02T18:36:28.703844",
     "status": "completed"
    },
    "tags": []
   },
   "outputs": [
    {
     "data": {
      "text/plain": [
       "array([[1., 0., 0.],\n",
       "       [0., 1., 0.],\n",
       "       [0., 0., 1.]])"
      ]
     },
     "execution_count": 140,
     "metadata": {},
     "output_type": "execute_result"
    }
   ],
   "source": [
    "np.eye(3)"
   ]
  },
  {
   "cell_type": "code",
   "execution_count": null,
   "id": "f5ef6879",
   "metadata": {
    "papermill": {
     "duration": 0.049926,
     "end_time": "2024-09-02T18:36:28.875254",
     "exception": false,
     "start_time": "2024-09-02T18:36:28.825328",
     "status": "completed"
    },
    "tags": []
   },
   "outputs": [],
   "source": []
  },
  {
   "cell_type": "code",
   "execution_count": null,
   "id": "93b61f25",
   "metadata": {
    "papermill": {
     "duration": 0.051112,
     "end_time": "2024-09-02T18:36:28.977426",
     "exception": false,
     "start_time": "2024-09-02T18:36:28.926314",
     "status": "completed"
    },
    "tags": []
   },
   "outputs": [],
   "source": []
  },
  {
   "cell_type": "code",
   "execution_count": null,
   "id": "9f5aff14",
   "metadata": {
    "papermill": {
     "duration": 0.053346,
     "end_time": "2024-09-02T18:36:29.082676",
     "exception": false,
     "start_time": "2024-09-02T18:36:29.029330",
     "status": "completed"
    },
    "tags": []
   },
   "outputs": [],
   "source": []
  },
  {
   "cell_type": "code",
   "execution_count": null,
   "id": "c3f4666f",
   "metadata": {
    "papermill": {
     "duration": 0.051139,
     "end_time": "2024-09-02T18:36:29.184940",
     "exception": false,
     "start_time": "2024-09-02T18:36:29.133801",
     "status": "completed"
    },
    "tags": []
   },
   "outputs": [],
   "source": []
  },
  {
   "cell_type": "code",
   "execution_count": null,
   "id": "9d458953",
   "metadata": {
    "papermill": {
     "duration": 0.0505,
     "end_time": "2024-09-02T18:36:29.286492",
     "exception": false,
     "start_time": "2024-09-02T18:36:29.235992",
     "status": "completed"
    },
    "tags": []
   },
   "outputs": [],
   "source": []
  },
  {
   "cell_type": "code",
   "execution_count": null,
   "id": "0672c9f8",
   "metadata": {
    "papermill": {
     "duration": 0.050923,
     "end_time": "2024-09-02T18:36:29.388118",
     "exception": false,
     "start_time": "2024-09-02T18:36:29.337195",
     "status": "completed"
    },
    "tags": []
   },
   "outputs": [],
   "source": []
  },
  {
   "cell_type": "code",
   "execution_count": null,
   "id": "6d6a339f",
   "metadata": {
    "papermill": {
     "duration": 0.052218,
     "end_time": "2024-09-02T18:36:29.491246",
     "exception": false,
     "start_time": "2024-09-02T18:36:29.439028",
     "status": "completed"
    },
    "tags": []
   },
   "outputs": [],
   "source": []
  },
  {
   "cell_type": "code",
   "execution_count": null,
   "id": "54506314",
   "metadata": {
    "papermill": {
     "duration": 0.052792,
     "end_time": "2024-09-02T18:36:29.595075",
     "exception": false,
     "start_time": "2024-09-02T18:36:29.542283",
     "status": "completed"
    },
    "tags": []
   },
   "outputs": [],
   "source": []
  },
  {
   "cell_type": "code",
   "execution_count": null,
   "id": "247b8112",
   "metadata": {
    "papermill": {
     "duration": 0.051212,
     "end_time": "2024-09-02T18:36:29.699330",
     "exception": false,
     "start_time": "2024-09-02T18:36:29.648118",
     "status": "completed"
    },
    "tags": []
   },
   "outputs": [],
   "source": []
  },
  {
   "cell_type": "code",
   "execution_count": null,
   "id": "6921c2b6",
   "metadata": {
    "papermill": {
     "duration": 0.05023,
     "end_time": "2024-09-02T18:36:29.800495",
     "exception": false,
     "start_time": "2024-09-02T18:36:29.750265",
     "status": "completed"
    },
    "tags": []
   },
   "outputs": [],
   "source": []
  },
  {
   "cell_type": "code",
   "execution_count": null,
   "id": "55979693",
   "metadata": {
    "papermill": {
     "duration": 0.051126,
     "end_time": "2024-09-02T18:36:29.902455",
     "exception": false,
     "start_time": "2024-09-02T18:36:29.851329",
     "status": "completed"
    },
    "tags": []
   },
   "outputs": [],
   "source": []
  },
  {
   "cell_type": "code",
   "execution_count": null,
   "id": "28cf2ef8",
   "metadata": {
    "papermill": {
     "duration": 0.050823,
     "end_time": "2024-09-02T18:36:30.005018",
     "exception": false,
     "start_time": "2024-09-02T18:36:29.954195",
     "status": "completed"
    },
    "tags": []
   },
   "outputs": [],
   "source": []
  },
  {
   "cell_type": "code",
   "execution_count": null,
   "id": "a1b7efbf",
   "metadata": {
    "papermill": {
     "duration": 0.051065,
     "end_time": "2024-09-02T18:36:30.107338",
     "exception": false,
     "start_time": "2024-09-02T18:36:30.056273",
     "status": "completed"
    },
    "tags": []
   },
   "outputs": [],
   "source": []
  },
  {
   "cell_type": "code",
   "execution_count": null,
   "id": "8197645c",
   "metadata": {
    "papermill": {
     "duration": 0.050983,
     "end_time": "2024-09-02T18:36:30.209765",
     "exception": false,
     "start_time": "2024-09-02T18:36:30.158782",
     "status": "completed"
    },
    "tags": []
   },
   "outputs": [],
   "source": []
  },
  {
   "cell_type": "code",
   "execution_count": null,
   "id": "3efd19ff",
   "metadata": {
    "papermill": {
     "duration": 0.051428,
     "end_time": "2024-09-02T18:36:30.312362",
     "exception": false,
     "start_time": "2024-09-02T18:36:30.260934",
     "status": "completed"
    },
    "tags": []
   },
   "outputs": [],
   "source": []
  }
 ],
 "metadata": {
  "kaggle": {
   "accelerator": "none",
   "dataSources": [],
   "dockerImageVersionId": 30761,
   "isGpuEnabled": false,
   "isInternetEnabled": true,
   "language": "python",
   "sourceType": "notebook"
  },
  "kernelspec": {
   "display_name": "Python 3",
   "language": "python",
   "name": "python3"
  },
  "language_info": {
   "codemirror_mode": {
    "name": "ipython",
    "version": 3
   },
   "file_extension": ".py",
   "mimetype": "text/x-python",
   "name": "python",
   "nbconvert_exporter": "python",
   "pygments_lexer": "ipython3",
   "version": "3.10.14"
  },
  "papermill": {
   "default_parameters": {},
   "duration": 24.041474,
   "end_time": "2024-09-02T18:36:30.783392",
   "environment_variables": {},
   "exception": null,
   "input_path": "__notebook__.ipynb",
   "output_path": "__notebook__.ipynb",
   "parameters": {},
   "start_time": "2024-09-02T18:36:06.741918",
   "version": "2.6.0"
  }
 },
 "nbformat": 4,
 "nbformat_minor": 5
}
